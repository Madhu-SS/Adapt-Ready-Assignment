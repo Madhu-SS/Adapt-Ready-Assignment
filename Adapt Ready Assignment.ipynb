{
 "cells": [
  {
   "cell_type": "markdown",
   "id": "4690d659",
   "metadata": {},
   "source": [
    "## 1"
   ]
  },
  {
   "cell_type": "raw",
   "id": "034e749f",
   "metadata": {},
   "source": [
    "1. Data set reference link: https://www.consumerfinance.gov/data-\n",
    "research/consumer-complaints/#download-the-data\n",
    "File data source: https://files.consumerfinance.gov/ccdb/complaints.csv.zip\n",
    "Problem statement:\n",
    "Download the data from the file data source and provide possible data insights."
   ]
  },
  {
   "cell_type": "code",
   "execution_count": 1,
   "id": "331ac368",
   "metadata": {},
   "outputs": [],
   "source": [
    "import pandas as pd\n",
    "import matplotlib.pyplot as plt \n",
    "import seaborn as sns"
   ]
  },
  {
   "cell_type": "code",
   "execution_count": 2,
   "id": "25de42d9",
   "metadata": {},
   "outputs": [
    {
     "name": "stderr",
     "output_type": "stream",
     "text": [
      "C:\\Users\\Hp\\AppData\\Local\\Temp\\ipykernel_10324\\984983967.py:1: DtypeWarning: Columns (16) have mixed types. Specify dtype option on import or set low_memory=False.\n",
      "  df=pd.read_csv('complaints.csv')\n"
     ]
    }
   ],
   "source": [
    "df=pd.read_csv('complaints.csv')"
   ]
  },
  {
   "cell_type": "code",
   "execution_count": 3,
   "id": "c7ecadea",
   "metadata": {},
   "outputs": [
    {
     "data": {
      "text/html": [
       "<div>\n",
       "<style scoped>\n",
       "    .dataframe tbody tr th:only-of-type {\n",
       "        vertical-align: middle;\n",
       "    }\n",
       "\n",
       "    .dataframe tbody tr th {\n",
       "        vertical-align: top;\n",
       "    }\n",
       "\n",
       "    .dataframe thead th {\n",
       "        text-align: right;\n",
       "    }\n",
       "</style>\n",
       "<table border=\"1\" class=\"dataframe\">\n",
       "  <thead>\n",
       "    <tr style=\"text-align: right;\">\n",
       "      <th></th>\n",
       "      <th>Date received</th>\n",
       "      <th>Product</th>\n",
       "      <th>Sub-product</th>\n",
       "      <th>Issue</th>\n",
       "      <th>Sub-issue</th>\n",
       "      <th>Consumer complaint narrative</th>\n",
       "      <th>Company public response</th>\n",
       "      <th>Company</th>\n",
       "      <th>State</th>\n",
       "      <th>ZIP code</th>\n",
       "      <th>Tags</th>\n",
       "      <th>Consumer consent provided?</th>\n",
       "      <th>Submitted via</th>\n",
       "      <th>Date sent to company</th>\n",
       "      <th>Company response to consumer</th>\n",
       "      <th>Timely response?</th>\n",
       "      <th>Consumer disputed?</th>\n",
       "      <th>Complaint ID</th>\n",
       "    </tr>\n",
       "  </thead>\n",
       "  <tbody>\n",
       "    <tr>\n",
       "      <th>0</th>\n",
       "      <td>2024-01-24</td>\n",
       "      <td>Credit reporting or other personal consumer re...</td>\n",
       "      <td>Credit reporting</td>\n",
       "      <td>Incorrect information on your report</td>\n",
       "      <td>Account information incorrect</td>\n",
       "      <td>NaN</td>\n",
       "      <td>Company has responded to the consumer and the ...</td>\n",
       "      <td>TRANSUNION INTERMEDIATE HOLDINGS, INC.</td>\n",
       "      <td>FL</td>\n",
       "      <td>33578</td>\n",
       "      <td>NaN</td>\n",
       "      <td>Consent not provided</td>\n",
       "      <td>Web</td>\n",
       "      <td>2024-01-24</td>\n",
       "      <td>Closed with explanation</td>\n",
       "      <td>Yes</td>\n",
       "      <td>NaN</td>\n",
       "      <td>8205544</td>\n",
       "    </tr>\n",
       "    <tr>\n",
       "      <th>1</th>\n",
       "      <td>2024-02-26</td>\n",
       "      <td>Credit reporting or other personal consumer re...</td>\n",
       "      <td>Credit reporting</td>\n",
       "      <td>Incorrect information on your report</td>\n",
       "      <td>Information belongs to someone else</td>\n",
       "      <td>NaN</td>\n",
       "      <td>Company believes it acted appropriately as aut...</td>\n",
       "      <td>CCS Financial Services, Inc.</td>\n",
       "      <td>NC</td>\n",
       "      <td>27536</td>\n",
       "      <td>NaN</td>\n",
       "      <td>Consent not provided</td>\n",
       "      <td>Web</td>\n",
       "      <td>2024-02-26</td>\n",
       "      <td>Closed with non-monetary relief</td>\n",
       "      <td>Yes</td>\n",
       "      <td>NaN</td>\n",
       "      <td>8423775</td>\n",
       "    </tr>\n",
       "    <tr>\n",
       "      <th>2</th>\n",
       "      <td>2024-01-26</td>\n",
       "      <td>Credit reporting or other personal consumer re...</td>\n",
       "      <td>Credit reporting</td>\n",
       "      <td>Incorrect information on your report</td>\n",
       "      <td>Information belongs to someone else</td>\n",
       "      <td>The companies, along with the credit reporting...</td>\n",
       "      <td>NaN</td>\n",
       "      <td>EQUIFAX, INC.</td>\n",
       "      <td>NC</td>\n",
       "      <td>28804</td>\n",
       "      <td>NaN</td>\n",
       "      <td>Consent provided</td>\n",
       "      <td>Web</td>\n",
       "      <td>2024-01-26</td>\n",
       "      <td>Closed with non-monetary relief</td>\n",
       "      <td>Yes</td>\n",
       "      <td>NaN</td>\n",
       "      <td>8232435</td>\n",
       "    </tr>\n",
       "    <tr>\n",
       "      <th>3</th>\n",
       "      <td>2024-05-02</td>\n",
       "      <td>Credit card</td>\n",
       "      <td>Store credit card</td>\n",
       "      <td>Fees or interest</td>\n",
       "      <td>Unexpected increase in interest rate</td>\n",
       "      <td>NaN</td>\n",
       "      <td>NaN</td>\n",
       "      <td>Colony Brands, Inc.</td>\n",
       "      <td>CA</td>\n",
       "      <td>93702</td>\n",
       "      <td>NaN</td>\n",
       "      <td>NaN</td>\n",
       "      <td>Web</td>\n",
       "      <td>2024-05-02</td>\n",
       "      <td>Closed with explanation</td>\n",
       "      <td>Yes</td>\n",
       "      <td>NaN</td>\n",
       "      <td>8902079</td>\n",
       "    </tr>\n",
       "    <tr>\n",
       "      <th>4</th>\n",
       "      <td>2024-01-26</td>\n",
       "      <td>Credit reporting or other personal consumer re...</td>\n",
       "      <td>Credit reporting</td>\n",
       "      <td>Improper use of your report</td>\n",
       "      <td>Reporting company used your report improperly</td>\n",
       "      <td>In accordance with the Fair Credit Reporting a...</td>\n",
       "      <td>NaN</td>\n",
       "      <td>EQUIFAX, INC.</td>\n",
       "      <td>GA</td>\n",
       "      <td>30213</td>\n",
       "      <td>NaN</td>\n",
       "      <td>Consent provided</td>\n",
       "      <td>Web</td>\n",
       "      <td>2024-01-26</td>\n",
       "      <td>Closed with explanation</td>\n",
       "      <td>Yes</td>\n",
       "      <td>NaN</td>\n",
       "      <td>8231458</td>\n",
       "    </tr>\n",
       "    <tr>\n",
       "      <th>...</th>\n",
       "      <td>...</td>\n",
       "      <td>...</td>\n",
       "      <td>...</td>\n",
       "      <td>...</td>\n",
       "      <td>...</td>\n",
       "      <td>...</td>\n",
       "      <td>...</td>\n",
       "      <td>...</td>\n",
       "      <td>...</td>\n",
       "      <td>...</td>\n",
       "      <td>...</td>\n",
       "      <td>...</td>\n",
       "      <td>...</td>\n",
       "      <td>...</td>\n",
       "      <td>...</td>\n",
       "      <td>...</td>\n",
       "      <td>...</td>\n",
       "      <td>...</td>\n",
       "    </tr>\n",
       "    <tr>\n",
       "      <th>5159716</th>\n",
       "      <td>2023-08-02</td>\n",
       "      <td>Credit reporting, credit repair services, or o...</td>\n",
       "      <td>Credit reporting</td>\n",
       "      <td>Incorrect information on your report</td>\n",
       "      <td>Information belongs to someone else</td>\n",
       "      <td>NaN</td>\n",
       "      <td>NaN</td>\n",
       "      <td>EQUIFAX, INC.</td>\n",
       "      <td>TX</td>\n",
       "      <td>76036</td>\n",
       "      <td>NaN</td>\n",
       "      <td>Other</td>\n",
       "      <td>Web</td>\n",
       "      <td>2023-08-02</td>\n",
       "      <td>Closed with non-monetary relief</td>\n",
       "      <td>Yes</td>\n",
       "      <td>NaN</td>\n",
       "      <td>7337991</td>\n",
       "    </tr>\n",
       "    <tr>\n",
       "      <th>5159717</th>\n",
       "      <td>2023-08-02</td>\n",
       "      <td>Payday loan, title loan, or personal loan</td>\n",
       "      <td>Installment loan</td>\n",
       "      <td>Problem with additional add-on products or ser...</td>\n",
       "      <td>NaN</td>\n",
       "      <td>NaN</td>\n",
       "      <td>NaN</td>\n",
       "      <td>NBT BANCORP INC.</td>\n",
       "      <td>NJ</td>\n",
       "      <td>08046</td>\n",
       "      <td>NaN</td>\n",
       "      <td>NaN</td>\n",
       "      <td>Phone</td>\n",
       "      <td>2023-08-02</td>\n",
       "      <td>Closed with explanation</td>\n",
       "      <td>Yes</td>\n",
       "      <td>NaN</td>\n",
       "      <td>7343156</td>\n",
       "    </tr>\n",
       "    <tr>\n",
       "      <th>5159718</th>\n",
       "      <td>2023-08-02</td>\n",
       "      <td>Mortgage</td>\n",
       "      <td>FHA mortgage</td>\n",
       "      <td>Struggling to pay mortgage</td>\n",
       "      <td>NaN</td>\n",
       "      <td>NaN</td>\n",
       "      <td>Company believes it acted appropriately as aut...</td>\n",
       "      <td>Chesmar Homes</td>\n",
       "      <td>TX</td>\n",
       "      <td>77316</td>\n",
       "      <td>NaN</td>\n",
       "      <td>Other</td>\n",
       "      <td>Web</td>\n",
       "      <td>2023-08-17</td>\n",
       "      <td>Closed with explanation</td>\n",
       "      <td>Yes</td>\n",
       "      <td>NaN</td>\n",
       "      <td>7340709</td>\n",
       "    </tr>\n",
       "    <tr>\n",
       "      <th>5159719</th>\n",
       "      <td>2023-08-02</td>\n",
       "      <td>Credit reporting, credit repair services, or o...</td>\n",
       "      <td>Credit reporting</td>\n",
       "      <td>Improper use of your report</td>\n",
       "      <td>Reporting company used your report improperly</td>\n",
       "      <td>NaN</td>\n",
       "      <td>NaN</td>\n",
       "      <td>EQUIFAX, INC.</td>\n",
       "      <td>GA</td>\n",
       "      <td>30013</td>\n",
       "      <td>NaN</td>\n",
       "      <td>Consent not provided</td>\n",
       "      <td>Web</td>\n",
       "      <td>2023-08-02</td>\n",
       "      <td>Closed with explanation</td>\n",
       "      <td>Yes</td>\n",
       "      <td>NaN</td>\n",
       "      <td>7341166</td>\n",
       "    </tr>\n",
       "    <tr>\n",
       "      <th>5159720</th>\n",
       "      <td>2023-08-04</td>\n",
       "      <td>Payday loan, title loan, or personal loan</td>\n",
       "      <td>Payday loan</td>\n",
       "      <td>Charged fees or interest you didn't expect</td>\n",
       "      <td>NaN</td>\n",
       "      <td>NaN</td>\n",
       "      <td>NaN</td>\n",
       "      <td>Flandreau Santee Sioux Tribe</td>\n",
       "      <td>TX</td>\n",
       "      <td>75057</td>\n",
       "      <td>NaN</td>\n",
       "      <td>Consent not provided</td>\n",
       "      <td>Web</td>\n",
       "      <td>2023-08-18</td>\n",
       "      <td>Closed with explanation</td>\n",
       "      <td>Yes</td>\n",
       "      <td>NaN</td>\n",
       "      <td>7350142</td>\n",
       "    </tr>\n",
       "  </tbody>\n",
       "</table>\n",
       "<p>5159721 rows × 18 columns</p>\n",
       "</div>"
      ],
      "text/plain": [
       "        Date received                                            Product  \\\n",
       "0          2024-01-24  Credit reporting or other personal consumer re...   \n",
       "1          2024-02-26  Credit reporting or other personal consumer re...   \n",
       "2          2024-01-26  Credit reporting or other personal consumer re...   \n",
       "3          2024-05-02                                        Credit card   \n",
       "4          2024-01-26  Credit reporting or other personal consumer re...   \n",
       "...               ...                                                ...   \n",
       "5159716    2023-08-02  Credit reporting, credit repair services, or o...   \n",
       "5159717    2023-08-02          Payday loan, title loan, or personal loan   \n",
       "5159718    2023-08-02                                           Mortgage   \n",
       "5159719    2023-08-02  Credit reporting, credit repair services, or o...   \n",
       "5159720    2023-08-04          Payday loan, title loan, or personal loan   \n",
       "\n",
       "               Sub-product                                              Issue  \\\n",
       "0         Credit reporting               Incorrect information on your report   \n",
       "1         Credit reporting               Incorrect information on your report   \n",
       "2         Credit reporting               Incorrect information on your report   \n",
       "3        Store credit card                                   Fees or interest   \n",
       "4         Credit reporting                        Improper use of your report   \n",
       "...                    ...                                                ...   \n",
       "5159716   Credit reporting               Incorrect information on your report   \n",
       "5159717   Installment loan  Problem with additional add-on products or ser...   \n",
       "5159718       FHA mortgage                         Struggling to pay mortgage   \n",
       "5159719   Credit reporting                        Improper use of your report   \n",
       "5159720        Payday loan         Charged fees or interest you didn't expect   \n",
       "\n",
       "                                             Sub-issue  \\\n",
       "0                        Account information incorrect   \n",
       "1                  Information belongs to someone else   \n",
       "2                  Information belongs to someone else   \n",
       "3                 Unexpected increase in interest rate   \n",
       "4        Reporting company used your report improperly   \n",
       "...                                                ...   \n",
       "5159716            Information belongs to someone else   \n",
       "5159717                                            NaN   \n",
       "5159718                                            NaN   \n",
       "5159719  Reporting company used your report improperly   \n",
       "5159720                                            NaN   \n",
       "\n",
       "                              Consumer complaint narrative  \\\n",
       "0                                                      NaN   \n",
       "1                                                      NaN   \n",
       "2        The companies, along with the credit reporting...   \n",
       "3                                                      NaN   \n",
       "4        In accordance with the Fair Credit Reporting a...   \n",
       "...                                                    ...   \n",
       "5159716                                                NaN   \n",
       "5159717                                                NaN   \n",
       "5159718                                                NaN   \n",
       "5159719                                                NaN   \n",
       "5159720                                                NaN   \n",
       "\n",
       "                                   Company public response  \\\n",
       "0        Company has responded to the consumer and the ...   \n",
       "1        Company believes it acted appropriately as aut...   \n",
       "2                                                      NaN   \n",
       "3                                                      NaN   \n",
       "4                                                      NaN   \n",
       "...                                                    ...   \n",
       "5159716                                                NaN   \n",
       "5159717                                                NaN   \n",
       "5159718  Company believes it acted appropriately as aut...   \n",
       "5159719                                                NaN   \n",
       "5159720                                                NaN   \n",
       "\n",
       "                                        Company State ZIP code Tags  \\\n",
       "0        TRANSUNION INTERMEDIATE HOLDINGS, INC.    FL    33578  NaN   \n",
       "1                  CCS Financial Services, Inc.    NC    27536  NaN   \n",
       "2                                 EQUIFAX, INC.    NC    28804  NaN   \n",
       "3                           Colony Brands, Inc.    CA    93702  NaN   \n",
       "4                                 EQUIFAX, INC.    GA    30213  NaN   \n",
       "...                                         ...   ...      ...  ...   \n",
       "5159716                           EQUIFAX, INC.    TX    76036  NaN   \n",
       "5159717                        NBT BANCORP INC.    NJ    08046  NaN   \n",
       "5159718                           Chesmar Homes    TX    77316  NaN   \n",
       "5159719                           EQUIFAX, INC.    GA    30013  NaN   \n",
       "5159720            Flandreau Santee Sioux Tribe    TX    75057  NaN   \n",
       "\n",
       "        Consumer consent provided? Submitted via Date sent to company  \\\n",
       "0             Consent not provided           Web           2024-01-24   \n",
       "1             Consent not provided           Web           2024-02-26   \n",
       "2                 Consent provided           Web           2024-01-26   \n",
       "3                              NaN           Web           2024-05-02   \n",
       "4                 Consent provided           Web           2024-01-26   \n",
       "...                            ...           ...                  ...   \n",
       "5159716                      Other           Web           2023-08-02   \n",
       "5159717                        NaN         Phone           2023-08-02   \n",
       "5159718                      Other           Web           2023-08-17   \n",
       "5159719       Consent not provided           Web           2023-08-02   \n",
       "5159720       Consent not provided           Web           2023-08-18   \n",
       "\n",
       "            Company response to consumer Timely response? Consumer disputed?  \\\n",
       "0                Closed with explanation              Yes                NaN   \n",
       "1        Closed with non-monetary relief              Yes                NaN   \n",
       "2        Closed with non-monetary relief              Yes                NaN   \n",
       "3                Closed with explanation              Yes                NaN   \n",
       "4                Closed with explanation              Yes                NaN   \n",
       "...                                  ...              ...                ...   \n",
       "5159716  Closed with non-monetary relief              Yes                NaN   \n",
       "5159717          Closed with explanation              Yes                NaN   \n",
       "5159718          Closed with explanation              Yes                NaN   \n",
       "5159719          Closed with explanation              Yes                NaN   \n",
       "5159720          Closed with explanation              Yes                NaN   \n",
       "\n",
       "         Complaint ID  \n",
       "0             8205544  \n",
       "1             8423775  \n",
       "2             8232435  \n",
       "3             8902079  \n",
       "4             8231458  \n",
       "...               ...  \n",
       "5159716       7337991  \n",
       "5159717       7343156  \n",
       "5159718       7340709  \n",
       "5159719       7341166  \n",
       "5159720       7350142  \n",
       "\n",
       "[5159721 rows x 18 columns]"
      ]
     },
     "execution_count": 3,
     "metadata": {},
     "output_type": "execute_result"
    }
   ],
   "source": [
    "df"
   ]
  },
  {
   "cell_type": "code",
   "execution_count": 4,
   "id": "d1ad4556",
   "metadata": {},
   "outputs": [
    {
     "name": "stdout",
     "output_type": "stream",
     "text": [
      "<class 'pandas.core.frame.DataFrame'>\n",
      "RangeIndex: 5159721 entries, 0 to 5159720\n",
      "Data columns (total 18 columns):\n",
      " #   Column                        Dtype \n",
      "---  ------                        ----- \n",
      " 0   Date received                 object\n",
      " 1   Product                       object\n",
      " 2   Sub-product                   object\n",
      " 3   Issue                         object\n",
      " 4   Sub-issue                     object\n",
      " 5   Consumer complaint narrative  object\n",
      " 6   Company public response       object\n",
      " 7   Company                       object\n",
      " 8   State                         object\n",
      " 9   ZIP code                      object\n",
      " 10  Tags                          object\n",
      " 11  Consumer consent provided?    object\n",
      " 12  Submitted via                 object\n",
      " 13  Date sent to company          object\n",
      " 14  Company response to consumer  object\n",
      " 15  Timely response?              object\n",
      " 16  Consumer disputed?            object\n",
      " 17  Complaint ID                  int64 \n",
      "dtypes: int64(1), object(17)\n",
      "memory usage: 708.6+ MB\n"
     ]
    }
   ],
   "source": [
    "df.info()"
   ]
  },
  {
   "cell_type": "code",
   "execution_count": 5,
   "id": "672b7112",
   "metadata": {},
   "outputs": [
    {
     "data": {
      "text/html": [
       "<div>\n",
       "<style scoped>\n",
       "    .dataframe tbody tr th:only-of-type {\n",
       "        vertical-align: middle;\n",
       "    }\n",
       "\n",
       "    .dataframe tbody tr th {\n",
       "        vertical-align: top;\n",
       "    }\n",
       "\n",
       "    .dataframe thead th {\n",
       "        text-align: right;\n",
       "    }\n",
       "</style>\n",
       "<table border=\"1\" class=\"dataframe\">\n",
       "  <thead>\n",
       "    <tr style=\"text-align: right;\">\n",
       "      <th></th>\n",
       "      <th>Complaint ID</th>\n",
       "    </tr>\n",
       "  </thead>\n",
       "  <tbody>\n",
       "    <tr>\n",
       "      <th>count</th>\n",
       "      <td>5.159721e+06</td>\n",
       "    </tr>\n",
       "    <tr>\n",
       "      <th>mean</th>\n",
       "      <td>5.146862e+06</td>\n",
       "    </tr>\n",
       "    <tr>\n",
       "      <th>std</th>\n",
       "      <td>2.407744e+06</td>\n",
       "    </tr>\n",
       "    <tr>\n",
       "      <th>min</th>\n",
       "      <td>1.000000e+00</td>\n",
       "    </tr>\n",
       "    <tr>\n",
       "      <th>25%</th>\n",
       "      <td>3.240587e+06</td>\n",
       "    </tr>\n",
       "    <tr>\n",
       "      <th>50%</th>\n",
       "      <td>5.389155e+06</td>\n",
       "    </tr>\n",
       "    <tr>\n",
       "      <th>75%</th>\n",
       "      <td>7.266528e+06</td>\n",
       "    </tr>\n",
       "    <tr>\n",
       "      <th>max</th>\n",
       "      <td>8.935236e+06</td>\n",
       "    </tr>\n",
       "  </tbody>\n",
       "</table>\n",
       "</div>"
      ],
      "text/plain": [
       "       Complaint ID\n",
       "count  5.159721e+06\n",
       "mean   5.146862e+06\n",
       "std    2.407744e+06\n",
       "min    1.000000e+00\n",
       "25%    3.240587e+06\n",
       "50%    5.389155e+06\n",
       "75%    7.266528e+06\n",
       "max    8.935236e+06"
      ]
     },
     "execution_count": 5,
     "metadata": {},
     "output_type": "execute_result"
    }
   ],
   "source": [
    "df.describe()"
   ]
  },
  {
   "cell_type": "markdown",
   "id": "9ca53c96",
   "metadata": {},
   "source": [
    "#### Issues"
   ]
  },
  {
   "cell_type": "code",
   "execution_count": 6,
   "id": "38a13079",
   "metadata": {
    "scrolled": true
   },
   "outputs": [
    {
     "data": {
      "text/plain": [
       "array(['Incorrect information on your report', 'Fees or interest',\n",
       "       'Improper use of your report',\n",
       "       \"Problem with a company's investigation into an existing problem\",\n",
       "       'Closing your account', 'Written notification about debt',\n",
       "       'Problem with fraud alerts or security freezes',\n",
       "       'Dealing with your lender or servicer', 'Managing an account',\n",
       "       'Getting a credit card', 'Attempts to collect debt not owed',\n",
       "       'Credit monitoring or identity theft protection services',\n",
       "       'Problem with additional add-on products or services',\n",
       "       'Unable to get your credit report or credit score',\n",
       "       'Advertising and marketing, including promotional offers',\n",
       "       'Managing the loan or lease', 'Advertising',\n",
       "       \"Didn't provide services promised\",\n",
       "       'Trouble during payment process',\n",
       "       'Problem with a purchase shown on your statement',\n",
       "       'Applying for a mortgage or refinancing an existing mortgage',\n",
       "       'Problem with a lender or other company charging your account',\n",
       "       'False statements or representation',\n",
       "       \"Problem with a company's investigation into an existing issue\",\n",
       "       'Other transaction problem',\n",
       "       'Problems at the end of the loan or lease', 'Repossession',\n",
       "       'Closing an account', 'Problem when making payments',\n",
       "       'Other features, terms, or problems',\n",
       "       'Problem caused by your funds being low',\n",
       "       'Threatened to contact someone or share information improperly',\n",
       "       \"Charged fees or interest you didn't expect\",\n",
       "       'Struggling to pay mortgage',\n",
       "       \"Received a loan you didn't apply for\",\n",
       "       'Took or threatened to take negative or legal action',\n",
       "       'Money was not available when promised',\n",
       "       'Problem with a purchase or transfer', 'Unexpected or other fees',\n",
       "       'Closing on a mortgage', 'Opening an account', 'Fraud or scam',\n",
       "       \"Problem with a credit reporting company's investigation into an existing problem\",\n",
       "       'Communication tactics', 'Problem with customer service',\n",
       "       'Getting a loan or lease', 'Charged upfront or unexpected fees',\n",
       "       'Trouble using the card', 'Struggling to pay your bill',\n",
       "       'Struggling to repay your loan', 'Electronic communications',\n",
       "       'Unauthorized transactions or other transaction problem',\n",
       "       'Struggling to pay your loan', 'Trouble using your card',\n",
       "       'Managing, opening, or closing your mobile wallet account',\n",
       "       'Getting a loan', 'Settlement process and costs',\n",
       "       'Loan modification,collection,foreclosure', 'Credit limit changed',\n",
       "       'Confusing or misleading advertising or marketing',\n",
       "       'Other service problem',\n",
       "       'Problem getting a card or closing an account',\n",
       "       'Trouble accessing funds in your mobile or digital wallet',\n",
       "       'Getting a line of credit',\n",
       "       \"Can't stop withdrawals from your bank account\",\n",
       "       \"Can't contact lender or servicer\",\n",
       "       'Confusing or missing disclosures',\n",
       "       'Wrong amount charged or received',\n",
       "       'Identity theft protection or other monitoring services',\n",
       "       'Issue where my lender is my school',\n",
       "       'Unauthorized withdrawals or charges',\n",
       "       'Problem with the payoff process at the end of the loan',\n",
       "       'Money was taken from your bank account on the wrong day or for the wrong amount',\n",
       "       'Getting the loan', 'Problems when you are unable to pay',\n",
       "       'Problems receiving the advance',\n",
       "       'Issue with income share agreement',\n",
       "       'Loan servicing, payments, escrow account',\n",
       "       'Vehicle was damaged or destroyed the vehicle',\n",
       "       'Lost or stolen money order', 'Credit decision / Underwriting',\n",
       "       'Incorrect exchange rate', 'Problem with cash advance',\n",
       "       'Problem adding money',\n",
       "       \"Loan payment wasn't credited to your account\", 'Credit reporting',\n",
       "       'Issues with repayment',\n",
       "       \"Was approved for a loan, but didn't receive money\",\n",
       "       'Unexpected fees', 'Disclosure verification of debt',\n",
       "       \"Was approved for a loan, but didn't receive the money\",\n",
       "       'Vehicle was repossessed or sold the vehicle',\n",
       "       'Problem with overdraft', nan,\n",
       "       'Overdraft, savings, or rewards features', 'Lost or stolen refund',\n",
       "       'Other transaction issues', 'Billing disputes',\n",
       "       'Lost or stolen check', 'Incorrect information on credit report',\n",
       "       \"Cont'd attempts collect debt not owed\",\n",
       "       'Improper contact or sharing of info',\n",
       "       'Taking/threatening an illegal action',\n",
       "       'Application, originator, mortgage broker',\n",
       "       'Identity theft / Fraud / Embezzlement', 'Collection practices',\n",
       "       'Other', 'Account opening, closing, or management',\n",
       "       'Excessive fees', 'Property was sold', 'Bankruptcy',\n",
       "       'Unable to get credit report/credit score',\n",
       "       'Dealing with my lender or servicer', 'Deposits and withdrawals',\n",
       "       'Shopping for a line of credit',\n",
       "       'Problems caused by my funds being low', 'APR or interest rate',\n",
       "       'Payment to acct not credited',\n",
       "       'Making/receiving payments, sending money', 'Transaction issue',\n",
       "       \"Credit reporting company's investigation\",\n",
       "       'Improper use of my credit report', 'Payoff process',\n",
       "       'Customer service / Customer relations', \"Can't repay my loan\",\n",
       "       'Credit card protection / Debt protection',\n",
       "       'Account terms and changes', 'Shopping for a loan or lease',\n",
       "       \"Can't contact lender\", 'Other fee', 'Advertising and marketing',\n",
       "       'Taking out the loan or lease',\n",
       "       'Problem with credit report or credit score',\n",
       "       'Closing/Cancelling account',\n",
       "       'Managing, opening, or closing account', 'Repaying your loan',\n",
       "       'Delinquent account', \"Charged fees or interest I didn't expect\",\n",
       "       'Credit line increase/decrease', 'Collection debt dispute',\n",
       "       'Managing the line of credit', 'Privacy',\n",
       "       \"Can't stop charges to bank account\", 'Using a debit or ATM card',\n",
       "       'Credit monitoring or identity protection', 'Billing statement',\n",
       "       'Unsolicited issuance of credit card',\n",
       "       'Unauthorized transactions/trans. issues', 'Other service issues',\n",
       "       'Rewards', 'Credit determination', 'Sale of account',\n",
       "       'Application processing delay', 'Late fee', 'Balance transfer',\n",
       "       'Disclosures', 'Cash advance',\n",
       "       'Applied for loan/did not receive money',\n",
       "       'Customer service/Customer relations', 'Unexpected/Other fees',\n",
       "       \"Received a loan I didn't apply for\", 'Adding money',\n",
       "       'Cash advance fee', 'Incorrect/missing disclosures or info',\n",
       "       'Forbearance / Workout plans', 'Arbitration',\n",
       "       'Charged bank acct wrong day or amt', 'Fees',\n",
       "       'Advertising, marketing or disclosures', 'Convenience checks',\n",
       "       'Overlimit fee', 'Lender repossessed or sold the vehicle',\n",
       "       'Balance transfer fee', 'Overdraft, savings or rewards features',\n",
       "       'Problem with an overdraft',\n",
       "       'Property was damaged or destroyed property',\n",
       "       'Lender sold the property', 'Lender damaged or destroyed vehicle',\n",
       "       'Lender damaged or destroyed property'], dtype=object)"
      ]
     },
     "execution_count": 6,
     "metadata": {},
     "output_type": "execute_result"
    }
   ],
   "source": [
    "df['Issue'].unique()"
   ]
  },
  {
   "cell_type": "markdown",
   "id": "79a600b3",
   "metadata": {},
   "source": [
    "#### Most Repeted Issues and it's count"
   ]
  },
  {
   "cell_type": "code",
   "execution_count": 7,
   "id": "ed307210",
   "metadata": {},
   "outputs": [
    {
     "data": {
      "text/plain": [
       "Incorrect information on your report                                                1501815\n",
       "Improper use of your report                                                          797684\n",
       "Problem with a credit reporting company's investigation into an existing problem     589336\n",
       "Attempts to collect debt not owed                                                    211434\n",
       "Problem with a company's investigation into an existing problem                      203246\n",
       "                                                                                     ...   \n",
       "Lender damaged or destroyed vehicle                                                       8\n",
       "Property was damaged or destroyed property                                                7\n",
       "Lender sold the property                                                                  7\n",
       "Lender damaged or destroyed property                                                      3\n",
       "Lost or stolen refund                                                                     2\n",
       "Name: Issue, Length: 178, dtype: int64"
      ]
     },
     "execution_count": 7,
     "metadata": {},
     "output_type": "execute_result"
    }
   ],
   "source": [
    "df['Issue'].value_counts()"
   ]
  },
  {
   "cell_type": "markdown",
   "id": "3c9b08c5",
   "metadata": {},
   "source": [
    "#### Sub-issue"
   ]
  },
  {
   "cell_type": "code",
   "execution_count": 8,
   "id": "b1e4927d",
   "metadata": {
    "scrolled": true
   },
   "outputs": [
    {
     "data": {
      "text/plain": [
       "array(['Account information incorrect',\n",
       "       'Information belongs to someone else',\n",
       "       'Unexpected increase in interest rate',\n",
       "       'Reporting company used your report improperly',\n",
       "       'Their investigation did not fix an error on your report',\n",
       "       \"Credit inquiries on your report that you don't recognize\",\n",
       "       'Investigation took more than 30 days', 'Account status incorrect',\n",
       "       'Was not notified of investigation status or results',\n",
       "       'Company closed your account',\n",
       "       \"Notification didn't disclose it was an attempt to collect a debt\",\n",
       "       'Problem with personal statement of dispute', nan,\n",
       "       'Trouble with how payments are being handled',\n",
       "       'Deposits and withdrawals', 'Personal information incorrect',\n",
       "       \"Didn't receive notice of right to dispute\",\n",
       "       'Received bad information about your loan',\n",
       "       'Card opened without my consent or knowledge', 'Debt is not yours',\n",
       "       'Problem canceling credit monitoring or identify theft protection service',\n",
       "       'Charged too much interest',\n",
       "       'Other problem getting your report or credit score',\n",
       "       'Old information reappears or never goes away',\n",
       "       'Report provided to employer without your written authorization',\n",
       "       'Public record information inaccurate',\n",
       "       'Debt was result of identity theft',\n",
       "       'Confusing or misleading advertising about the credit card',\n",
       "       'Information is missing that should be on the report',\n",
       "       'Problem with fees charged',\n",
       "       'Confusing or misleading advertising about the card',\n",
       "       'Payment process', 'Fee problem',\n",
       "       'Card was charged for something you did not purchase with the card',\n",
       "       'Problem using a debit or ATM card',\n",
       "       'Confusing or misleading advertising or marketing',\n",
       "       \"Didn't receive enough information to verify debt\",\n",
       "       'Difficulty submitting a dispute or getting information about a dispute over the phone',\n",
       "       'Money was taken from your account on the wrong day or for the wrong amount',\n",
       "       'Attempted to collect wrong amount',\n",
       "       'Debt was already discharged in bankruptcy and is no longer owed',\n",
       "       \"Don't agree with the fees charged\", 'Information is incorrect',\n",
       "       'Problem with paying off the loan', 'Voluntary repossession',\n",
       "       'Trying to communicate with the company to fix an issue while managing or servicing your loan',\n",
       "       'Funds not received from closed account', 'Banking errors',\n",
       "       'Loan estimate or other related disclosures',\n",
       "       'Problem during payment process', 'Other problem',\n",
       "       'Trying to communicate with the company to fix an issue with the application process',\n",
       "       'Overdrafts and overdraft fees',\n",
       "       \"Didn't receive advertised or promotional terms\",\n",
       "       'Sent card you never applied for',\n",
       "       'Funds not handled or disbursed as instructed',\n",
       "       'Talked to a third-party about your debt',\n",
       "       'Trying to communicate with the company to fix an issue related to modification, forbearance, short sale, deed-in-lieu, bankruptcy, or foreclosure',\n",
       "       'Problem getting your free annual credit report',\n",
       "       'Threatened to sue you for very old debt',\n",
       "       'Escrow, taxes, or insurance',\n",
       "       'Problem making or receiving payments',\n",
       "       \"Card company isn't resolving a dispute about a purchase or transfer\",\n",
       "       'Closing disclosure or other related disclosures',\n",
       "       'Impersonated attorney, law enforcement, or government official',\n",
       "       'Notice to repossess', 'Problem with fees',\n",
       "       \"Didn't receive services that were advertised\",\n",
       "       \"Credit card company isn't resolving a dispute about a purchase on your statement\",\n",
       "       'Delays in the application process', 'Unable to open an account',\n",
       "       'Loan balance remaining after the vehicle is repossessed and sold',\n",
       "       \"Can't close your account\",\n",
       "       'Account reinstatement or redemption after repossession',\n",
       "       'Lien release', 'Frequent or repeated calls', 'Foreclosure',\n",
       "       'Debt was paid', 'Private mortgage insurance (PMI)',\n",
       "       'Threatened or suggested your credit would be damaged',\n",
       "       'Billing dispute for services', 'Fees charged',\n",
       "       \"Can't stop withdrawals from your account\",\n",
       "       'You told them to stop contacting you, but they keep trying',\n",
       "       \"Didn't receive terms that were advertised\",\n",
       "       'Applying for or obtaining a modification, forbearance plan, short sale, or deed-in-lieu',\n",
       "       'Problem with additional add-on products or services purchased with the loan',\n",
       "       'Need information about your loan balance or loan terms',\n",
       "       'Delay in processing application',\n",
       "       'Transaction was not authorized',\n",
       "       'Charged for a purchase or transfer you did not make with the card',\n",
       "       'Problem with rewards from credit card',\n",
       "       'Trouble using the card to spend money in a store or online',\n",
       "       \"Credit card company won't work with you while you're going through financial hardship\",\n",
       "       'Problem lowering your monthly payments',\n",
       "       'Deposits or withdrawals',\n",
       "       'Loan sold or transferred to another company',\n",
       "       'Problem with the interest rate',\n",
       "       'Problem with forgiveness, cancellation, or discharge',\n",
       "       'Paying off the loan',\n",
       "       'Problem getting a working replacement card', 'Privacy issues',\n",
       "       'Problem accessing account',\n",
       "       \"Credit card company won't increase or decrease your credit limit\",\n",
       "       'Confusing or misleading advertising',\n",
       "       'Threatened to arrest you or take you to jail if you do not pay',\n",
       "       \"Can't temporarily delay making payments\",\n",
       "       'An existing modification, forbearance plan, short sale, or other loss mitigation relief',\n",
       "       'You never received your bill or did not know a payment was due',\n",
       "       'Frequent or repeated messages', 'Cashing a check',\n",
       "       'Seized or attempted to seize your property',\n",
       "       'Problem when attempting to purchase vehicle at the end of the lease',\n",
       "       'Billing problem',\n",
       "       \"Can't get other flexible options for repaying your loan\",\n",
       "       'Trouble closing card',\n",
       "       'Company communicating payment assistance or payment extension options',\n",
       "       'Problem with your payment plan',\n",
       "       'Sued you without properly notifying you of lawsuit',\n",
       "       'Application denied', 'Problem with customer service',\n",
       "       'Fees or costs during the application process',\n",
       "       'Trouble getting information about the card',\n",
       "       'Received unsolicited financial product or insurance offers after opting out',\n",
       "       'Problem using the card to withdraw money from an ATM',\n",
       "       'Contacted you after you asked them to stop',\n",
       "       'Trouble getting, activating, or registering a card',\n",
       "       'Account opened without my consent or knowledge',\n",
       "       'Confusing or missing disclosures',\n",
       "       'Changes in loan terms during or after closing',\n",
       "       'Contacted you instead of your attorney',\n",
       "       'Damage caused or loss of personal items in vehicle during the actual repossession',\n",
       "       \"Can't use card to make purchases\",\n",
       "       'Received unwanted marketing or advertising',\n",
       "       'Issues with fees connected to the loan', 'Bankruptcy',\n",
       "       'Used obscene, profane, or other abusive language',\n",
       "       'Loan opened without my consent or knowledge',\n",
       "       'Sued you in a state where you do not live or did not sign for the debt',\n",
       "       'Overcharged for something you did purchase with the card',\n",
       "       'Unable to receive car title or other problem after the loan is paid off',\n",
       "       'Deficiency balance after repossession',\n",
       "       'Problem with product or service terms changing',\n",
       "       'Changes in terms mid-deal or after closing',\n",
       "       'Application denials', 'Late or other fees',\n",
       "       'Information that should be on the report is missing',\n",
       "       'Problem with balance transfer',\n",
       "       'Problem with additional products or services purchased with the loan',\n",
       "       'High-pressure sales tactics', 'Did not receive car title',\n",
       "       'Add-on products and services', 'Credit denial',\n",
       "       'Lender trying to repossess or disable the vehicle',\n",
       "       'Bounced checks or returned payments',\n",
       "       'Trouble using the card to send money to another person',\n",
       "       'Fees charged for closing account',\n",
       "       'Denied request to lower payments',\n",
       "       'Non-sufficient funds and associated fees',\n",
       "       'Keep getting calls about your loan',\n",
       "       'Negative impact of inaccurate appraisal',\n",
       "       'Cannot graduate, receive diploma, or get transcript due to money owed',\n",
       "       'Collected or attempted to collect exempt funds',\n",
       "       'Indicated you were committing crime by not paying debt',\n",
       "       'Problem related to refinancing', 'Problem with cash advances',\n",
       "       'Dealing with provider of income share agreement',\n",
       "       'Trying to communicate with the company to fix an issue with the loan closing',\n",
       "       'Contacted your employer', 'Problem with signing the paperwork',\n",
       "       'Called before 8am or after 9pm',\n",
       "       'High pressure sales tactics or recruiting',\n",
       "       'Problem while selling or giving up the vehicle', 'Co-signer',\n",
       "       'Changes in loan terms during the application process',\n",
       "       'Company explaining amount owed',\n",
       "       'Excess mileage, damage, or wear fees, or other problem after the lease is finished',\n",
       "       'Delays with the closing process',\n",
       "       'Trouble getting a working replacement card',\n",
       "       'Problem with fees or penalties', 'Problem with a trade-in',\n",
       "       'Told you not to respond to a lawsuit they filed against you',\n",
       "       'Fees or costs after closing', 'Interest rate',\n",
       "       'Problem after you declared or threatened to declare bankruptcy',\n",
       "       'Trouble using the card to pay a bill',\n",
       "       \"Don't want a card provided by your employer or the government\",\n",
       "       'Account sold or transferred to another company',\n",
       "       'Credit card company forcing arbitration',\n",
       "       'Overcharged for a purchase or transfer you did make with the card',\n",
       "       'Termination fees or other problem when ending the lease early',\n",
       "       'Problem extending the lease', 'Contacted before 8am or after 9pm',\n",
       "       'Not given enough info to verify debt',\n",
       "       'Problem with direct deposit', 'Payment issues', 'Denied loan',\n",
       "       'Problem with renewal',\n",
       "       'Setting up an escrow account for taxes and insurance',\n",
       "       'Problem with convenience check',\n",
       "       'Issues with financial aid services',\n",
       "       'Marketing or disclosure issues',\n",
       "       'Threatened to turn you in to immigration or deport you',\n",
       "       'Changes in terms from what was offered or advertised',\n",
       "       'Overdraft charges', 'Filed for bankruptcy',\n",
       "       'Problem with a check written from your prepaid card account',\n",
       "       'Problem adding money', 'Used obscene/profane/abusive language',\n",
       "       'Billing or statement issues',\n",
       "       'Card opened as result of identity theft or fraud',\n",
       "       'Fraudulent loan', 'Account opened as a result of fraud',\n",
       "       'Right to dispute notice not received',\n",
       "       'Called outside of 8am-9pm', 'Account status', 'Debt is not mine',\n",
       "       'Contacted me after I asked not to',\n",
       "       'Sued w/o proper notification of suit',\n",
       "       'Debt was discharged in bankruptcy', 'Information is not mine',\n",
       "       'Problem getting my free annual report',\n",
       "       'Contacted me instead of my attorney', 'Account terms',\n",
       "       'Threatened to take legal action',\n",
       "       'Seized/Attempted to seize property',\n",
       "       'Keep getting calls about my loan', 'Public record',\n",
       "       'Threatened arrest/jail if do not pay',\n",
       "       'Received bad information about my loan',\n",
       "       'Problem with statement of dispute',\n",
       "       'Report improperly shared by CRC',\n",
       "       'Debt resulted from identity theft',\n",
       "       'Threatened to sue on too old debt',\n",
       "       \"Can't get flexible payment options\",\n",
       "       'Reinserted previously deleted info',\n",
       "       'Talked to a third party about my debt',\n",
       "       \"Can't decrease my monthly payments\", 'Personal information',\n",
       "       \"Don't agree with fees charged\",\n",
       "       'Called after sent written cease of comm',\n",
       "       'Credit monitoring or identity theft protection services',\n",
       "       \"Indicated shouldn't respond to lawsuit\",\n",
       "       'Problem getting report or credit score',\n",
       "       'Attempted to/Collected exempt funds',\n",
       "       'Contacted employer after asked not to',\n",
       "       'Indicated committed crime not paying',\n",
       "       'Having problems with customer service',\n",
       "       'Trouble with how payments are handled',\n",
       "       'Qualified for a better loan than the one offered',\n",
       "       'Problem cancelling or closing account',\n",
       "       'No notice of investigation status/result',\n",
       "       'Investigation took too long', 'Inadequate help over the phone',\n",
       "       'Account terms and changes', \"Can't temporarily postpone payments\",\n",
       "       'Not disclosed as an attempt to collect',\n",
       "       \"Can't qualify for a loan\", 'Problem with fraud alerts',\n",
       "       \"Sued where didn't live/sign for debt\",\n",
       "       'Receiving unwanted marketing/advertising', 'Billing dispute',\n",
       "       'Need information about my balance/terms',\n",
       "       'Received marketing offer after opted out',\n",
       "       'Impersonated an attorney or official',\n",
       "       'Qualify for a better loan than offered',\n",
       "       'Report shared with employer w/o consent',\n",
       "       \"Was signed up for overdraft on card, but don't want to be\",\n",
       "       'Incorrect information on your report',\n",
       "       \"Problem with a credit reporting company's investigation into an existing problem\",\n",
       "       'Problem with fraud alerts or security freezes', 'Insurance terms',\n",
       "       'Improper use of your report'], dtype=object)"
      ]
     },
     "execution_count": 8,
     "metadata": {},
     "output_type": "execute_result"
    }
   ],
   "source": [
    "df['Sub-issue'].unique()"
   ]
  },
  {
   "cell_type": "markdown",
   "id": "41434ac1",
   "metadata": {},
   "source": [
    "#### Most Repeted sub-Issues and it's count"
   ]
  },
  {
   "cell_type": "code",
   "execution_count": 9,
   "id": "c16e4821",
   "metadata": {},
   "outputs": [
    {
     "data": {
      "text/plain": [
       "Information belongs to someone else                                                 995443\n",
       "Reporting company used your report improperly                                       522520\n",
       "Their investigation did not fix an error on your report                             454882\n",
       "Credit inquiries on your report that you don't recognize                            270361\n",
       "Account information incorrect                                                       181324\n",
       "                                                                                     ...  \n",
       "Problem with a credit reporting company's investigation into an existing problem         5\n",
       "Issues with financial aid services                                                       5\n",
       "Credit monitoring or identity theft protection services                                  1\n",
       "Problem with fraud alerts or security freezes                                            1\n",
       "Improper use of your report                                                              1\n",
       "Name: Sub-issue, Length: 272, dtype: int64"
      ]
     },
     "execution_count": 9,
     "metadata": {},
     "output_type": "execute_result"
    }
   ],
   "source": [
    "df['Sub-issue'].value_counts()"
   ]
  },
  {
   "cell_type": "markdown",
   "id": "c2cca2db",
   "metadata": {},
   "source": [
    "#### Product"
   ]
  },
  {
   "cell_type": "code",
   "execution_count": 10,
   "id": "3ff2ad5c",
   "metadata": {},
   "outputs": [
    {
     "data": {
      "text/plain": [
       "array(['Credit reporting or other personal consumer reports',\n",
       "       'Credit card', 'Debt collection', 'Student loan',\n",
       "       'Checking or savings account',\n",
       "       'Payday loan, title loan, personal loan, or advance loan',\n",
       "       'Vehicle loan or lease', 'Prepaid card',\n",
       "       'Debt or credit management', 'Mortgage',\n",
       "       'Money transfer, virtual currency, or money service',\n",
       "       'Credit reporting, credit repair services, or other personal consumer reports',\n",
       "       'Consumer Loan', 'Credit card or prepaid card',\n",
       "       'Payday loan, title loan, or personal loan', 'Money transfers',\n",
       "       'Credit reporting', 'Bank account or service', 'Payday loan',\n",
       "       'Other financial service', 'Virtual currency'], dtype=object)"
      ]
     },
     "execution_count": 10,
     "metadata": {},
     "output_type": "execute_result"
    }
   ],
   "source": [
    "df['Product'].unique()"
   ]
  },
  {
   "cell_type": "markdown",
   "id": "ea0f3059",
   "metadata": {},
   "source": [
    "#### Most Repeted Product and it's count"
   ]
  },
  {
   "cell_type": "code",
   "execution_count": 11,
   "id": "d64f1284",
   "metadata": {
    "scrolled": true
   },
   "outputs": [
    {
     "data": {
      "text/plain": [
       "Credit reporting, credit repair services, or other personal consumer reports    2163878\n",
       "Credit reporting or other personal consumer reports                              952973\n",
       "Debt collection                                                                  566391\n",
       "Mortgage                                                                         397729\n",
       "Checking or savings account                                                      212250\n",
       "Credit card or prepaid card                                                      206373\n",
       "Credit reporting                                                                 140429\n",
       "Credit card                                                                      132715\n",
       "Student loan                                                                      87994\n",
       "Bank account or service                                                           86205\n",
       "Money transfer, virtual currency, or money service                                68290\n",
       "Vehicle loan or lease                                                             55569\n",
       "Consumer Loan                                                                     31574\n",
       "Payday loan, title loan, or personal loan                                         30640\n",
       "Prepaid card                                                                       8312\n",
       "Payday loan                                                                        5541\n",
       "Payday loan, title loan, personal loan, or advance loan                            5358\n",
       "Money transfers                                                                    5354\n",
       "Debt or credit management                                                          1070\n",
       "Other financial service                                                            1058\n",
       "Virtual currency                                                                     18\n",
       "Name: Product, dtype: int64"
      ]
     },
     "execution_count": 11,
     "metadata": {},
     "output_type": "execute_result"
    }
   ],
   "source": [
    "df['Product'].value_counts()"
   ]
  },
  {
   "cell_type": "markdown",
   "id": "15487f7e",
   "metadata": {},
   "source": [
    "#### Sub-product"
   ]
  },
  {
   "cell_type": "code",
   "execution_count": 12,
   "id": "211e1f72",
   "metadata": {
    "scrolled": true
   },
   "outputs": [
    {
     "data": {
      "text/plain": [
       "array(['Credit reporting', 'Store credit card',\n",
       "       'General-purpose credit card or charge card', 'I do not know',\n",
       "       'Federal student loan servicing', 'Checking account', 'Other debt',\n",
       "       'Private student loan', 'Personal line of credit',\n",
       "       'Payday loan debt', 'Credit card debt', 'Lease',\n",
       "       'General-purpose prepaid card',\n",
       "       'Mortgage modification or foreclosure avoidance',\n",
       "       'Telecommunications debt', 'Conventional home mortgage',\n",
       "       'Other personal consumer report', 'Auto debt', 'Debt settlement',\n",
       "       'Domestic (US) money transfer', 'Loan', 'FHA mortgage',\n",
       "       'Savings account', 'Payday loan', 'Rental debt', 'Title loan',\n",
       "       'Virtual currency', 'Gift card', 'Government benefit card',\n",
       "       'VA mortgage', 'Installment loan', 'Check cashing service',\n",
       "       'Home equity loan or line of credit (HELOC)',\n",
       "       'International money transfer',\n",
       "       \"Money order, traveler's check or cashier's check\", 'Medical debt',\n",
       "       'CD (Certificate of Deposit)', 'Mobile or digital wallet',\n",
       "       'Credit repair services', 'Reverse mortgage',\n",
       "       'Other banking product or service', 'USDA mortgage',\n",
       "       'Conventional adjustable mortgage (ARM)', 'Other mortgage',\n",
       "       'Federal student loan debt', 'Manufactured home loan',\n",
       "       'Mortgage debt', 'Conventional fixed mortgage',\n",
       "       'Other type of mortgage', 'Payroll card', 'Vehicle loan',\n",
       "       'Foreign currency exchange', 'Other advances of future income',\n",
       "       'Private student loan debt',\n",
       "       'Tax refund anticipation loan or check',\n",
       "       'Student loan debt relief', 'Earned wage access', 'Pawn loan', nan,\n",
       "       'Credit card', 'Student prepaid card', 'Medical',\n",
       "       'Non-federal student loan', 'Money order',\n",
       "       'Home equity loan or line of credit', 'Refund anticipation check',\n",
       "       'Other (i.e. phone, health club, etc.)',\n",
       "       \"Traveler's check or cashier's check\", 'Mortgage',\n",
       "       '(CD) Certificate of deposit', 'Other bank product/service',\n",
       "       'Auto', 'Mobile wallet', 'Federal student loan', 'Vehicle lease',\n",
       "       'Government benefit payment card', 'Second mortgage',\n",
       "       'Cashing a check without an account', 'Check cashing',\n",
       "       'General purpose card', 'Other special purpose card',\n",
       "       'Gift or merchant card', 'Credit repair', 'Transit card',\n",
       "       'ID prepaid card', 'Traveler’s/Cashier’s checks',\n",
       "       'Electronic Benefit Transfer / EBT card'], dtype=object)"
      ]
     },
     "execution_count": 12,
     "metadata": {},
     "output_type": "execute_result"
    }
   ],
   "source": [
    "df['Sub-product'].unique()"
   ]
  },
  {
   "cell_type": "markdown",
   "id": "a19e338d",
   "metadata": {},
   "source": [
    "#### Most Repeted Sub-product and it's count"
   ]
  },
  {
   "cell_type": "code",
   "execution_count": 13,
   "id": "80fd0bc6",
   "metadata": {},
   "outputs": [
    {
     "data": {
      "text/plain": [
       "Credit reporting                              3090515\n",
       "Checking account                               228124\n",
       "General-purpose credit card or charge card     197721\n",
       "I do not know                                  133799\n",
       "Other debt                                     109249\n",
       "                                               ...   \n",
       "Transit card                                       37\n",
       "Earned wage access                                 36\n",
       "Student loan debt relief                           21\n",
       "Electronic Benefit Transfer / EBT card             12\n",
       "Tax refund anticipation loan or check               8\n",
       "Name: Sub-product, Length: 86, dtype: int64"
      ]
     },
     "execution_count": 13,
     "metadata": {},
     "output_type": "execute_result"
    }
   ],
   "source": [
    "df['Sub-product'].value_counts()"
   ]
  },
  {
   "cell_type": "markdown",
   "id": "d768fc52",
   "metadata": {},
   "source": [
    "#### Date"
   ]
  },
  {
   "cell_type": "code",
   "execution_count": 14,
   "id": "f7e0e302",
   "metadata": {},
   "outputs": [
    {
     "data": {
      "text/plain": [
       "2024-04-17    7742\n",
       "2024-04-02    7589\n",
       "2024-03-21    7521\n",
       "2024-04-11    7451\n",
       "2024-03-07    7445\n",
       "              ... \n",
       "2011-12-24      11\n",
       "2011-12-25      10\n",
       "2017-04-22       9\n",
       "2014-03-09       5\n",
       "2022-05-07       4\n",
       "Name: Date received, Length: 4539, dtype: int64"
      ]
     },
     "execution_count": 14,
     "metadata": {},
     "output_type": "execute_result"
    }
   ],
   "source": [
    "df['Date received'].value_counts()"
   ]
  },
  {
   "cell_type": "markdown",
   "id": "22656efa",
   "metadata": {},
   "source": [
    "#### The more number of complaints raised in 2024-04-17"
   ]
  },
  {
   "cell_type": "code",
   "execution_count": 15,
   "id": "d0154bac",
   "metadata": {},
   "outputs": [
    {
     "data": {
      "image/png": "[encoded data removed]",
      "text/plain": [
       "<Figure size 800x500 with 1 Axes>"
      ]
     },
     "metadata": {},
     "output_type": "display_data"
    }
   ],
   "source": [
    "top_dates = df['Date received'].value_counts().nlargest(15).sort_values(ascending=False).index\n",
    "\n",
    "plt.figure(figsize=(8, 5))\n",
    "sns.countplot(x='Date received', data=df[df['Date received'].isin(top_dates)], order=top_dates, palette='viridis')\n",
    "plt.title('The Date in which more complaints raised')\n",
    "plt.xlabel('Date')\n",
    "plt.ylabel('Count')\n",
    "plt.xticks(rotation=45)  \n",
    "plt.tight_layout()\n",
    "plt.show()"
   ]
  },
  {
   "cell_type": "code",
   "execution_count": 16,
   "id": "e567244e",
   "metadata": {},
   "outputs": [
    {
     "data": {
      "image/png": "[encoded data removed]",
      "text/plain": [
       "<Figure size 800x500 with 1 Axes>"
      ]
     },
     "metadata": {},
     "output_type": "display_data"
    }
   ],
   "source": [
    "top_dates = df['Date received'].value_counts().nsmallest(15).sort_values(ascending=True).index\n",
    "\n",
    "plt.figure(figsize=(8, 5))\n",
    "sns.countplot(x='Date received', data=df[df['Date received'].isin(top_dates)], order=top_dates, palette='viridis')\n",
    "plt.title('The Date in which less complaints raised')\n",
    "plt.xlabel('Date')\n",
    "plt.ylabel('Count')\n",
    "plt.xticks(rotation=45)\n",
    "plt.tight_layout() \n",
    "plt.show()"
   ]
  },
  {
   "cell_type": "code",
   "execution_count": 17,
   "id": "5682784a",
   "metadata": {
    "scrolled": true
   },
   "outputs": [
    {
     "name": "stdout",
     "output_type": "stream",
     "text": [
      "Issues raised on 2024-04-17: Incorrect information on your report, Fees or interest, Problem with additional add-on products or services, Improper use of your report, Applying for a mortgage or refinancing an existing mortgage, Written notification about debt, Problem with a company's investigation into an existing problem, Problem with fraud alerts or security freezes, Problem with a purchase shown on your statement, Problem when making payments, Problem caused by your funds being low, Managing an account, Attempts to collect debt not owed, Unexpected or other fees, Repossession, Credit monitoring or identity theft protection services, Other transaction problem, Struggling to pay mortgage, Getting a credit card, Closing an account, Struggling to repay your loan, Unauthorized transactions or other transaction problem, Dealing with your lender or servicer, Problem with a purchase or transfer, Trouble during payment process, Closing your account, Received a loan you didn't apply for, Opening an account, Managing the loan or lease, Took or threatened to take negative or legal action, Other features, terms, or problems, Problem with the payoff process at the end of the loan, Problems at the end of the loan or lease, Threatened to contact someone or share information improperly, Unable to get your credit report or credit score, Communication tactics, Trouble using your card, Money was not available when promised, Problem with a lender or other company charging your account, Fraud or scam, Struggling to pay your loan, Closing on a mortgage, Problem with a company's investigation into an existing issue, Trouble using the card, False statements or representation, Advertising and marketing, including promotional offers, Getting the loan, Managing, opening, or closing your mobile wallet account, Getting a loan or lease, Trouble accessing funds in your mobile or digital wallet, Can't contact lender or servicer, Wrong amount charged or received, Problem with customer service, Money was taken from your bank account on the wrong day or for the wrong amount, Electronic communications, Charged fees or interest you didn't expect, Problem getting a card or closing an account, Getting a loan, Didn't provide services promised, Confusing or missing disclosures\n",
      "\n",
      "Issues raised on 2024-04-02: Problem with a company's investigation into an existing problem, Incorrect information on your report, Attempts to collect debt not owed, Improper use of your report, Trouble during payment process, Written notification about debt, Other features, terms, or problems, Confusing or misleading advertising or marketing, Trouble using the card, Problem when making payments, Fees or interest, Managing an account, Problem with fraud alerts or security freezes, Struggling to pay your bill, Problem with a purchase shown on your statement, Problem caused by your funds being low, Communication tactics, Closing an account, Credit monitoring or identity theft protection services, Problem with a lender or other company charging your account, Dealing with your lender or servicer, Fraud or scam, Getting a loan or lease, False statements or representation, Opening an account, Struggling to pay mortgage, Unexpected or other fees, Applying for a mortgage or refinancing an existing mortgage, Took or threatened to take negative or legal action, Closing on a mortgage, Getting a credit card, Unable to get your credit report or credit score, Managing the loan or lease, Struggling to pay your loan, Trouble using your card, Other transaction problem, Closing your account, Electronic communications, Charged fees or interest you didn't expect, Trouble accessing funds in your mobile or digital wallet, Threatened to contact someone or share information improperly, Managing, opening, or closing your mobile wallet account, Problem with a purchase or transfer, Advertising and marketing, including promotional offers, Unauthorized withdrawals or charges, Unauthorized transactions or other transaction problem, Struggling to repay your loan, Identity theft protection or other monitoring services, Getting a line of credit, Lost or stolen money order, Problems at the end of the loan or lease, Money was not available when promised, Confusing or missing disclosures, Money was taken from your bank account on the wrong day or for the wrong amount, Problem with a company's investigation into an existing issue, Repossession, Problem getting a card or closing an account, Getting the loan, Problem with the payoff process at the end of the loan, Charged upfront or unexpected fees, Was approved for a loan, but didn't receive the money, Didn't provide services promised, Other service problem, Problem with customer service\n",
      "\n",
      "Issues raised on 2024-03-21: Problem with a company's investigation into an existing problem, Improper use of your report, Incorrect information on your report, Credit monitoring or identity theft protection services, Closing your account, Written notification about debt, Managing an account, Problem with fraud alerts or security freezes, Attempts to collect debt not owed, Trouble during payment process, Other transaction problem, Money was not available when promised, Problem when making payments, Fees or interest, Threatened to contact someone or share information improperly, Other features, terms, or problems, Problem with the payoff process at the end of the loan, False statements or representation, Dealing with your lender or servicer, Problem adding money, Advertising and marketing, including promotional offers, Getting a credit card, Problem with customer service, Took or threatened to take negative or legal action, Unable to get your credit report or credit score, Getting the loan, Communication tactics, Closing an account, Struggling to pay mortgage, Fraud or scam, Closing on a mortgage, Getting a loan or lease, Issue with income share agreement, Charged fees or interest you didn't expect, Repossession, Problem caused by your funds being low, Problems at the end of the loan or lease, Problem with a purchase shown on your statement, Opening an account, Problem with a lender or other company charging your account, Problem with a purchase or transfer, Trouble using the card, Managing the loan or lease, Trouble using your card, Struggling to repay your loan, Applying for a mortgage or refinancing an existing mortgage, Didn't provide services promised, Problem with additional add-on products or services, Trouble accessing funds in your mobile or digital wallet, Struggling to pay your loan, Electronic communications, Lost or stolen money order, Unauthorized transactions or other transaction problem, Getting a line of credit, Getting a loan, Confusing or misleading advertising or marketing, Confusing or missing disclosures, Problem getting a card or closing an account, Problem with a company's investigation into an existing issue, Managing, opening, or closing your mobile wallet account, Advertising, Struggling to pay your bill, Unexpected or other fees, Other service problem, Wrong amount charged or received, Vehicle was repossessed or sold the vehicle\n",
      "\n",
      "Issues raised on 2024-04-11: Managing an account, Trouble during payment process, Incorrect information on your report, Improper use of your report, Problem with a company's investigation into an existing problem, Written notification about debt, Closing your account, Took or threatened to take negative or legal action, Attempts to collect debt not owed, Dealing with your lender or servicer, Problem with a purchase shown on your statement, Charged fees or interest you didn't expect, Credit monitoring or identity theft protection services, Other features, terms, or problems, False statements or representation, Getting a loan, Problem with additional add-on products or services, Managing the loan or lease, Unable to get your credit report or credit score, Getting a credit card, Received a loan you didn't apply for, Advertising and marketing, including promotional offers, Problem with a lender or other company charging your account, Repossession, Opening an account, Getting a loan or lease, Fraud or scam, Struggling to repay your loan, Communication tactics, Struggling to pay mortgage, Problem when making payments, Closing an account, Money was not available when promised, Fees or interest, Unexpected or other fees, Identity theft protection or other monitoring services, Problems at the end of the loan or lease, Threatened to contact someone or share information improperly, Problem getting a card or closing an account, Trouble accessing funds in your mobile or digital wallet, Other transaction problem, Didn't provide services promised, Unauthorized transactions or other transaction problem, Problem with a company's investigation into an existing issue, Trouble using your card, Closing on a mortgage, Problem with a purchase or transfer, Managing, opening, or closing your mobile wallet account, Charged upfront or unexpected fees, Applying for a mortgage or refinancing an existing mortgage, Problem with fraud alerts or security freezes, Issue with income share agreement, Electronic communications, Confusing or missing disclosures, Problem with customer service, Struggling to pay your loan, Trouble using the card, Problem adding money, Struggling to pay your bill, Problem caused by your funds being low, Problem with the payoff process at the end of the loan, Unexpected fees, Other service problem, Getting the loan, Issue where my lender is my school\n",
      "\n"
     ]
    }
   ],
   "source": [
    "df['Date received'] = pd.to_datetime(df['Date received'])\n",
    "\n",
    "\n",
    "dates_of_interest = ['2024-04-17', '2024-04-02', '2024-03-21', '2024-04-11']\n",
    "\n",
    "\n",
    "for date in dates_of_interest:\n",
    "    issues = df[df['Date received'] == date]['Issue'].dropna().unique()\n",
    "    print(f\"Issues raised on {date}: {', '.join(map(str, issues))}\\n\")"
   ]
  },
  {
   "cell_type": "markdown",
   "id": "1f5f1826",
   "metadata": {},
   "source": [
    "#### Consumer complaint narrative"
   ]
  },
  {
   "cell_type": "code",
   "execution_count": 18,
   "id": "8bd46034",
   "metadata": {
    "scrolled": true
   },
   "outputs": [
    {
     "data": {
      "text/plain": [
       "array([nan,\n",
       "       'The companies, along with the credit reporting agencies, are knowingly and willingly committing Aggravated Identity Theft to collect on an extension of credit and punish me for non repayment of, when I am in fact not the debtor as they are alleging. This is a violation of 15 USC 1681a, 18 USC 1028A, 18 USC 894, The Gramm-Leach-Bliley Act, and RICO.\\n\\nThis is an Identity Theft pursuant to 15 USC 1681a ( 3 ). The information I am demanding to be removed is not sent in error and is an affidavit of fact, so there is no material misrepresentation of the fact. If you believe I obtained possession of goods and services, then have a XXXX  XXXX member of this company put this information on a signed and notarized affidavit under penalty of perjury. \\n\\nOnce the items are removed from my consumer report, I demand that they are never put back on. If they are put back on, I will pursue litigation against your company in federal court, pursuant to 15 USC 1681o.\\n\\nPer 15 USC 1681c-2, the credit reporting agency must block this information from being reported to my consumer report within 4 days of receipt of this ID Theft Report, and I am demanding that you do so.\\n\\nThank you for your help in protecting my federally protected consumer rights.',\n",
       "       'In accordance with the Fair Credit Reporting act. The List of accounts below has violated my federally protected consumer rights to privacy and confidentiality under 15 USC 1681.\\n\\n15 U.S.C 1681 section 602 A. States I have the right to privacy.\\n\\n15 U.S.C 1681 Section 604 A Section 2 : It also states a consumer reporting agency can not furnish a account without my written instructions 15 U.S.C 1681c. ( a ) ( 5 ) Section States : no consumer reporting agency may make any consumer report containing any of the following items of information Any other adverse item of information, other than records of convictions of crimes which antedates the report by more than seven years.\\n\\n15 U.S.C. 1681s-2 ( A ) ( 1 ) A person shall not furnish any information relating to a consumer to any consumer reporting agency if the person knows or has reasonable cause to believe that the information is inaccurate.',\n",
       "       ...,\n",
       "       'On XX/XX/XXXX, at approximately XXXX. EST, I received several alerts from XXXX ( a company of PayPal ) suggesting that I had submitted a money transfer. Since I have never used XXXX nor ever submitted any money transfer I immediately reported to XXXX via XXXX that the following transactions were fraudulent and not authorized by me. \\n\\nThose transactions were as follows : 1. Transaction ID : XXXX, Amount : {$130.00} 2. Transaction ID : XXXX ; Amount {$130.00} 3. Transaction ID : XXXX ; Amount {$170.00} Since I reported this as fraudulent at XXXX XXXX XXXX immediately I did not believe that any money would be withdrawn from my account. By XXXXXXXX XXXX I discovered that those charges were withdrawn from my bank account. I immediately notified my bank of the fraudulent activity and they processed a stop payment. Thereafter, I received several emails from XXXX reflecting that I \" owed \\'\\' a debt. I notified them on XX/XX/XXXX, that those transactions were fraudulent, but continued to received payment requests between XX/XX/XXXX through XX/XX/XXXX. I received notice on XX/XX/XXXX or XXXX that they denied my claim based upon \" account history \\'\\' however, I requested evidence of this account history ( since I never opened a XXXX account ) and XXXX responded on XX/XX/XXXX, that XXXX could not provide details of the fraudulent transactions without a law enforcement agency. Please note, the original denial by XXXX occurred without anyone ever responding via email or phone call to discuss the facts. \\n\\nApproximately two weeks later, it was discovered that our home computer system had been hacked since the same hacker used my credit card to make payments on some account. It should be noted that because these transactions were from PayPal, they ultimately resolved these fraudulent claims in my favor because they recognized that the reason that the \" history \\'\\' appeared to be legitimate was because the hacker broke into my computer system and it appeared as if the individual were in my home THEY WERE NOT. Therefore, I filed an identify theft report on XX/XX/XXXX, with the government and I also filed a complaint with the Better Business Bureau. \\n\\nOnce I filed my complaint with the XXXX, the company sent responses wherein they continued to deny that the transactions were authorized and notified me that I could contact their executive offices. I did that on XX/XX/XXXX, to an individual named XXXX, wherein I provided a detailed response and evidence showing that my account had been hacked, but received no response from this. On XX/XX/XXXX, I received a response from XXXX through XXXX  yet again was denying my claim since they believed it to be accurate. On XX/XX/XXXX, I provided a response via XXXX  to XXXX and directly to the executives offices to an individual named XXXX yet again explaining that the authorized transactions appeared legitimate due to a hack and not because I authorized same. I also provided evidence regarding same. On XX/XX/XXXX, I also sent a follow-up identity theft report to the XXXX offices and still received no reply. \\n\\nOn XX/XX/XXXX, I received yet another response from XXXX via XXXX  saying they denied my claim after doing extensive research, but yet again they have never once either emailed or called me to discuss this matter, or explained how the evidence I provided does not support that the transactions were authorized by me. I also responded via XXXX  expressing my dissatisfaction with the response. \\n\\nI did not authorize these transactions since the evidence I\\'ve provided proves that a hacker gained access to my computer/home network and used the IP address that XXXX claims is \" proof \\'\\' that I authorized these transactions, when in fact that is not true. \\n\\nI am filing this claim since the identity theft website indicated that this was an appropriate next step and since this company is contending that this debt is valid and that they will notify collections since they believe same to be a valid debt. This is NOT a valid debt. If you research this company you will see that these type of fraudulent transactions happen frequently and they quickly \" deny \\'\\' the claims leaving the consumer responsible for their inept actions. Had XXXX simply not allowed the transactions not to go through when I originally notified them of this fraud, no money would have exchanged hands and this would not be a problem. However, they failed to do so. I will fight these charges through every legal means possible since I will not be held responsible for something I did not do primarily because if I do not then the individual that hacked my computer and then ultimately my PayPal account ( since I never had XXXX ) would be able to get away with this dangerous behavior. XXXX denying my claims is resulting in the perpetuation of fraud and they too must be stopped. \\n\\nI am attaching several documents which have been provided to XXXX via XXXX  and directly to their executive offices for consideration.',\n",
       "       'I have an injury committed by GENERAL MOTORS FINANCIAL towards me. I sent GENERAL MOTORS FINANCIAL , INC. a letter CERTIFIED MAIL NUMBER # XXXX on XX/XX/2022 requesting my credit balance refund Pursuant to 15 USC CH 41 1666 ( d ) also Pursuant to 12 CFR 226.11, GENERAL MOTORS FINANCIAL did not respond and now I am contacting the CFPB to help with the validation of debt, as GENERAL MOTORS FINANCIAL , INC. stated that I owe an alleged debt. I called XX/XX/XXXX to get a response as to why nothing was sent regarding the letter about the credit balance refund. I received an email on XX/XX/2022 thinking this email was regarding the response to my letter. It was not, I called on XX/XX/2022, responding to the email that was sent to me by XXXX XXXX. I called and asked about the refund, and no one was able to respond. I asked if my letter was received and I was told it was received on XX/XX/2022, and no written communication as requested has been given as of yet. I called again XX/XX/2022 and spoke to XXXX who was professional and informed me that she couldnt assist me on the number I dialed in her department that a manager would need to handle the call. She stated someone would call me back and I agreed on a 1 time phone call. I received a call back from XXXX XXXX Manager He stated he didn\\'t want the call recorded and I stated as well that I did not want the call recorded and he stated \" we do this for quality assurance \\'\\' I stated that \" I do my recording for quality assurance \\'\\' He stated he didn\\'t know me and that he doesn\\'t have to be recorded \\'\\' I stated that I didn\\'t know him and I choose to not be recorded. \\'\\' He said \" I will submit a request \\'\\' I stated \" A request? \\'\\' I do not want the call recorded period. I asked to speak to someone else who didn\\'t want to be combative, but actually move forward with the call. He stated \" it looks like you are working with an attorney so you don\\'t need to record the call \\'\\', I stated \" who informed you that I was being represented by an attorney? \\'\\' He stated well it assumes that you are based on the paperwork. \\'\\' I asked to speak to another supervisor immediately. He refused several times to get me another manager. I asked him several times for clarity, \" are you refusing to get me another supervisor? \\'\\' He said \" you can call back \\'\\' and informed him that \" I am already on the phone. I am not calling back, you can get me to another supervisor now that I am on the line already. \\'\\' Eventually he said \" ok \\'\\' put me on hold and came back and said \" no one else was available \\'\\' and asked if they could call me back I replied \" I am authorizing a one time call back, yes \\'\\'. He said ok someone will call you back. At XXXX cst I finished an email and sent it to XXXX XXXX to inform her of my encounter with her agents and questions about the refund and that no one had returned the call after her agent XXXX XXXX practices deceptive acts and misleading me attempting to make me think someone would call me back. GM financial closed at XXXX cst. XXXX didn\\'t put in a request to have someone call me back. This is unacceptable and goes against GENERAL MOTORS FINANCIAL values and ethics. I have yet to receive a phone call back about the matter nor has anyone responded to the email I sent to XXXX informing her agent didnt put any request in to call me back to handle the payment arrangement. Called GENERAL MOTOR FINANCIAL , INC. again on XX/XX/2022 and spoke to XXXX XXXX who didnt have any way of helping me with a response to the letter I sent in communicating the credit refund. She wanted to pass me over to another department that handles refunds in the customer service department. I asked to speak to a manager in that department. She stated she would have one give me a callback and in the meantime we would wait for a supervisor in the customer service department that helps with refunds. XXXX XXXX returned from hold stating, They had a long wait, and she submitted the request for the supervisor to call me back to talk about the assistance program. I received a call back from XXXX XXXX XXXX and informed him that I was calling pertaining to my refund ; however, I was informed by XXXX XXXX that this department could not help me. It would be best for us not to go over the refund, but lets go over the assistance program. XXXX XXXX XXXX  stated the account was in default and I stated how?, when I sent an instrument payment on XX/XX/2022 and received CERTIFIED MAIL # XXXX. He stated the payment has not been put in the system. When informing him of the payment instrument I sent in he stated and I quote XXXX we will not be entertaining this payment you sent in he laughed you know good as well that sending in that amount will do nothing for your account. This was an attempt of XXXX XXXX XXXX  XXXX attempting to disgrace me PURSUANT to 15 U. S. C. 1692 ( e ) ( 7 ). He also took the liberty to mention that We will discuss the contract you signed with us! Informed that the contract should be null and void due to the numerous violations during the application process, I am currently aware of my rights and the misconduct GM Financial is handling with consumers is erroneous and does need to be investigated. XXXX XXXX did not even attempt to go over the assistance program but instead said take us to court, I know you have already done the research! I responded, You must not be familiar with XXXX XXXX Article XXXX XXXX, I NEED VALIDATION OF DEBT! XXXX XXXX XXXX employed with GENERAL MOTORS FINANCIAL COMPANY , INC. attempted to disgrace me and make a joke out of my character, by me exercising my rights. This is the reason we are here today. I do not trust this company to respond without the CFPB involved and GENERAL MOTORS FINANCIAL COMPANY , INC. should be following the law and should be held accountable for not following the law. I would also like to point out another fact, my account was not in default when contacting GENERAL MOTORS FINANCIAL COMPANY , INC. on XX/XX/2022, XXXX XXXX instead of going over any programs he escalated the call and never mentioned and solutions or remedies. By agent XXXX lying about someone calling me back and no one calling me back after saying someone would and no response from the department manager, CAUSING MORE INJURY PUTTING THIS SAID ACCOUNT IN DEFAULT. I am now requesting GENERAL MOTORS FINANCIAL COMPANY , INC. validate the debt and original creditor. Its Federal Law Pursuant to 18 U. S. C. Title 8, that there is no debt present. I need the debt validated and I need a written response as I am allowing this company to indeed cure this situation before I take any legal action and I WILL be taking legal action. If the debt can not be validated I need my title and the lien released as well as any debt removed indefinitely AND the credit balance refund amount that I requested in my initial contact letter. I also would like to include that before I was not aware of my rights with GENERAL MOTORS FINANCIAL COMPANY , INC. and I am very aware now. During the contract signing I was not made aware of 15 USC 1605 I was not to be charged a down payment on my property. TRUTH AND LENDING ACT also backs this same law and GM financial allowed XXXX XXXX finance manager to sit there and add insult to injury by being deceptive and misleading. GENERAL MOTORS FINANCIAL , INCXXXX non-communication is in agreement to owing the refund.',\n",
       "       'I am tired of the run around from XXXX XXXX in trying to come out of forbearance ( via the XXXX XXXX ) which has been ongoing now for the last XXXX months. Where to begin? I was told up front I\\'d be able to enter a deferral plan upon exiting forbearance only to be told other-wise. I then subsequently wasted MONTHS on XXXX loan modification requests which were both denied. Now there has been mis-representation on who actually owns my Note which has led me to believe there are greater mechanisms occurring in an attempt to foreclose on my home. Per the attachment, after asking several times, XXXX XXXX informed me that XXXX XXXX XXXXXXXX XXXX XXXX XXXX XXXX ) holds my mortgage Note. However, I spoke to XXXX XXXX on XX/XX/XXXX and they told me that they DO NOT OWN MY MORTGAGE NOTE AND HAVENT SINCE XX/XX/XXXX. You can call XXXX ; ( then select Option # XXXX ) to verify this information. This therefore begs the question : Why would XXXX XXXX send me a letter fraudulently stating otherwise? ( again, defer to attached ) Now I most recently received a letter stating that XXXX XXXX XXXX XXXX XXXX XXXX XXXX, Series XXXX owns my Note. Yet its the exact same contact information per the XXXX XXXX XXXX XXXX. WHY CAN I NOT OBTAIN THEIR DIRECT PHONE NUMBER ASIDE FORM A FAKE, GENERIC MAILING ADDRESS? \\nXXXX XXXX NEEDS TO ADVISE ME WHO OWNS MY LOAN NOTE IMMEDIATELY ALONG WITH THEIR PHONE CONTACT INFORMATION OR I WILL HAVE NO CHOICE BUT TO PURUSE LEGAL ACTION ON THIS MATTER DUE TO THE FOLLOWING REASONS : 1 ) Mis-representing the owner of my Note ( for YEARS ) as being XXXX XXXX . 2 ) Not allowing me a deferral option post-forbearance after being told otherwise up front. All XXXXm repeatedly told is Deferral is not allowed. \\'\\' SAYS WHO???? I would like to hear it directly from this mysterious owner and/or investor of my Note.\\n\\n3 ) Not allowing me to take a loan modification either : I was asked UP FRONT if Id accept a higher payment for the 2nd loan modification request. After saying Yes and then waiting for XXXX months, I was told my loan modification request was denied because the payment couldnt be LOWERED. Really?? Why ask me then if Im ok with a higher payment up front if it was already known raising the payment wasnt even an option for a loan modification? I was never advised by any of the many representatives I spoke to for either of my loan modification requests, that approval was based on the presumption of a lower monthly payment.\\n\\n4 ) The imposter investor named XXXX? Last time I called, I was told by the representative XXXX was the investor holding my Note whom allegedly does not allow deferral options. Interestingly, I can not find any company by that name. I AM TIRED OF THE LIES, MIS-INFORMATION AND RUN AROUND. I AM READY AND ABLE TO RESUME MY MORTGAGE PAYMENTS BUT XXXX XXXX HAS MADE IT IMPOSSIBLE IN MY MANY ATTEMPTS TO DO SO AFTER MIS-LEADING ME UP FRONT. I feel that at this point, due to all of the mis-information, confusion and their unwillingness to offer any assistance except to tell me verbatim \" Sell your house \\'\\' or \" Get a 2nd job \\'\\' that I have no recourse but to pursue legal remediation. I am beyond exasparated at this point as to how things have gone thus far and hence, the reason I am filing this complaint. \\n\\nFEEDBACK FOR RESOLUTION 1 ) What is the phone number for this entity? Again, I called XXXX XXXX and I sure couldnt speak to anyone from this entity. \\n\\nXXXX XXXX XXXX XXXX XXXX, as XXXX for XXXX XXXX XXXX XXXX XXXX XXXX XXXX, Series XXXX XXXX XXXX XXXX XXXX XXXX, VA XXXX \\'\\' XXXX ) Why am I unable to contact the investor / owner of my Note directly? \\n\\n3 ) Why did XXXX XXXX ignore my original question of why does a loan modification presume a lower payment amount? When in fact, they asked me up front prior to my 2nd loan modification request if I would be ok with a higher payment? Again -- can I request a loan modification even if it\\'s for a reasonably higher amount? \\n\\n4 ) Lastly, I still do not have a clear answer or proof that the investor or owner of my Note does NOT allow the deferral of my forbearance amount ... which essentially doubled because I had to wait another 7 months for them to tell me it was declined and during said period they told me not to make any payments. If I knew who my actual investor was, I could contact them directly to confirm this information.'],\n",
       "      dtype=object)"
      ]
     },
     "execution_count": 18,
     "metadata": {},
     "output_type": "execute_result"
    }
   ],
   "source": [
    "df['Consumer complaint narrative'].unique()"
   ]
  },
  {
   "cell_type": "code",
   "execution_count": 19,
   "id": "ab9ea29d",
   "metadata": {
    "scrolled": true
   },
   "outputs": [
    {
     "data": {
      "text/plain": [
       "In accordance with the Fair Credit Reporting act. The List of accounts below has violated my federally protected consumer rights to privacy and confidentiality under 15 USC 1681.\\n\\n15 U.S.C 1681 section 602 A. States I have the right to privacy.\\n\\n15 U.S.C 1681 Section 604 A Section 2 : It also states a consumer reporting agency can not furnish a account without my written instructions 15 U.S.C 1681c. ( a ) ( 5 ) Section States : no consumer reporting agency may make any consumer report containing any of the following items of information Any other adverse item of information, other than records of convictions of crimes which antedates the report by more than seven years.\\n\\n15 U.S.C. 1681s-2 ( A ) ( 1 ) A person shall not furnish any information relating to a consumer to any consumer reporting agency if the person knows or has reasonable cause to believe that the information is inaccurate.                                                                                                                                                                                                                                                                                                                                                                                                                                                                                                                                                                                                                                                                                                                                                                                                                                                                                                                                                                                                                                                                                                                                                                                                                                                                                                                                                                                                                                                                                                                                                                                                                                                                                                                                                                                                                                                                                                                                                                                                                                                                                                                                                                                                                                                                                                                                                                                                                                                                                                                                                                                                                                                                                                                                                                                                                                                                                                                                                                                                                                                                                                                                                                                                                                                                                                                                                                                                                                                                                                                                                                                                              6965\n",
       "I'm really not sure what happened. I have mailed off letters to the credit bureaus continuously and thus far I have not gotten a response. My name is XXXX XXXX XXXX and I am filing this complaint for falsely reporting misleading information. There is no third party involved. Please review the uploaded letters.                                                                                                                                                                                                                                                                                                                                                                                                                                                                                                                                                                                                                                                                                                                                                                                                                                                                                                                                                                                                                                                                                                                                                                                                                                                                                                                                                                                                                                                                                                                                                                                                                                                                                                                                                                                                                                                                                                                                                                                                                                                                                                                                                                                                                                                                                                                                                                                                                                                                                                                                                                                                                                                                                                                                                                                                                                                                                                                                                                                                                                                                                                                                                                                                                                                                                                                                                                                                                                                                                                                                                                                                                                                                                                                                                                                                                                                                                                                                                                                                                                                                                                                                                                                                                                3240\n",
       "I'm really not sure what happened. I have mailed off letters to the credit bureaus continuously and thus far I have not gotten a response. My name is XXXX XXXX and I am filing this complaint for falsely reporting misleading information. There is no third party involved. Please review the uploaded letters.                                                                                                                                                                                                                                                                                                                                                                                                                                                                                                                                                                                                                                                                                                                                                                                                                                                                                                                                                                                                                                                                                                                                                                                                                                                                                                                                                                                                                                                                                                                                                                                                                                                                                                                                                                                                                                                                                                                                                                                                                                                                                                                                                                                                                                                                                                                                                                                                                                                                                                                                                                                                                                                                                                                                                                                                                                                                                                                                                                                                                                                                                                                                                                                                                                                                                                                                                                                                                                                                                                                                                                                                                                                                                                                                                                                                                                                                                                                                                                                                                                                                                                                                                                                                                                     3149\n",
       "My credit reports are inaccurate. These inaccuracies are causing creditors to deny me credit. You have the duty to report accurate information about consumers. Please investigate these accounts and inquires and update these accounts accordingly to avoid future litigation.                                                                                                                                                                                                                                                                                                                                                                                                                                                                                                                                                                                                                                                                                                                                                                                                                                                                                                                                                                                                                                                                                                                                                                                                                                                                                                                                                                                                                                                                                                                                                                                                                                                                                                                                                                                                                                                                                                                                                                                                                                                                                                                                                                                                                                                                                                                                                                                                                                                                                                                                                                                                                                                                                                                                                                                                                                                                                                                                                                                                                                                                                                                                                                                                                                                                                                                                                                                                                                                                                                                                                                                                                                                                                                                                                                                                                                                                                                                                                                                                                                                                                                                                                                                                                                                                       3104\n",
       "My name is XXXX XXXX this complaint is not made in error neither is it being made by a third party.I declare under penalty of perjury I am alleging that a person or company- without my authorization- from unauthorized use of my social security number and card used my personal identifying information to apply for goods, services, or money ; and, was successful in creating some accounts. I have no knowledge of this and All is being investigated by the FTC and Under 15 U.S. Code 1681b Permissible purposes of consumer reports i never gave any written consent to report anything on my consumer reports no consent is fraud.                                                                                                                                                                                                                                                                                                                                                                                                                                                                                                                                                                                                                                                                                                                                                                                                                                                                                                                                                                                                                                                                                                                                                                                                                                                                                                                                                                                                                                                                                                                                                                                                                                                                                                                                                                                                                                                                                                                                                                                                                                                                                                                                                                                                                                                                                                                                                                                                                                                                                                                                                                                                                                                                                                                                                                                                                                                                                                                                                                                                                                                                                                                                                                                                                                                                                                                                                                                                                                                                                                                                                                                                                                                                                                                                                                                                                                                                                                        2802\n",
       "                                                                                                                                                                                                                                                                                                                                                                                                                                                                                                                                                                                                                                                                                                                                                                                                                                                                                                                                                                                                                                                                                                                                                                                                                                                                                                                                                                                                                                                                                                                                                                                                                                                                                                                                                                                                                                                                                                                                                                                                                                                                                                                                                                                                                                                                                                                                                                                                                                                                                                                                                                                                                                                                                                                                                                                                                                                                                                                                                                                                                                                                                                                                                                                                                                                                                                                                                                                                                                                                                                                                                                                                                                                                                                                                                                                                                                                                                                                                                                                                                                                                                                                                                                                                                                                                                                                                                                                                                                                                                                                                                       ... \n",
       "I have been requesting this synchrony bank to remove all late payments from my report under an account that was closed without my consent. The company has not gotten back to by email, phone or mail. Also I never gave the company consent to report any late payments to. my report.                                                                                                                                                                                                                                                                                                                                                                                                                                                                                                                                                                                                                                                                                                                                                                                                                                                                                                                                                                                                                                                                                                                                                                                                                                                                                                                                                                                                                                                                                                                                                                                                                                                                                                                                                                                                                                                                                                                                                                                                                                                                                                                                                                                                                                                                                                                                                                                                                                                                                                                                                                                                                                                                                                                                                                                                                                                                                                                                                                                                                                                                                                                                                                                                                                                                                                                                                                                                                                                                                                                                                                                                                                                                                                                                                                                                                                                                                                                                                                                                                                                                                                                                                                                                                                                                   1\n",
       "I have been harassed by and on behalf on World Acceptance Corporation every 2-3 years for nearly 6 years. The account associated with World Acceptance Corporation was a result of Identity Theft and I have tried to resolve this matter on several occasions since XXXX. \\n\\nIn XXXX, I sent World Acceptance Corporation a copy of the police report and Identity Theft Affidavit as a resolution. No actions were taken by World Acceptance Corporation, neither did I ever receive an acknowledgment of their acceptance of my correspondence. \\n\\nOn XX/XX/XXXX, I escalated this issue and I filed a complaint with the Consumer Financial Protection Bureau against World Acceptance Corporation. At that time, the Compliance Manager of World Acceptance Corporation, XXXX XXXX, verified that the account was indeed fraud and that it would be removed from my credit report in 30 days. \\n\\nOn XX/XX/XXXX, I received a disturbing phone call from XXXX XXXX XXXX stating that they were calling to collect a debt on behalf of World Acceptance Corporation. \\n\\nOn XX/XX/XXXX, I received yet another phone call from a debt collection agency, XXXX, attempting to collect a debt on behalf of World Acceptance Corporation. \\n\\nPer the Fair Debt Collection Practice Act, the harassment Ive continuously received is in violation and I am seeking financial compensation.                                                                                                                                                                                                                                                                                                                                                                                                                                                                                                                                                                                                                                                                                                                                                                                                                                                                                                                                                                                                                                                                                                                                                                                                                                                                                                                                                                                                                                                                                                                                                                                                                                                                                                                                                                                                                                                                                                                                                                                                                                                                                                                                                                                                                                                                                                                                                                                                                                                                                                                                                                                                                                                                                                                                                                                                                                                                                                                                                                                                                                                                                                                                                             1\n",
       "XXXX XXXX XXXX  did not protect my personal information, as a result the account was duplicated, stolen and charges exceeding the credit limit were made. Despite of talking to XXXX XXXX XXXX as well as with all major credit reporting agency, they continue to report delinquency and late payment on my credit report. I contacted all three major credit bureau and they removed the negative information, however this year they started to received and report negative information on the same account. \\nI want all three credit bureau to stop and remove the negative information from my credit profile, this is affecting me in every aspect of my life and want the credit bureau to remove the lateness reported by XXXX XXXX XXXX.I am disputing the charges because i did not made them.                                                                                                                                                                                                                                                                                                                                                                                                                                                                                                                                                                                                                                                                                                                                                                                                                                                                                                                                                                                                                                                                                                                                                                                                                                                                                                                                                                                                                                                                                                                                                                                                                                                                                                                                                                                                                                                                                                                                                                                                                                                                                                                                                                                                                                                                                                                                                                                                                                                                                                                                                                                                                                                                                                                                                                                                                                                                                                                                                                                                                                                                                                                                                                                                                                                                                                                                                                                                                                                                                                                                                                                                                                                                                                                                                1\n",
       "I have tried multiple times to correct the balance/status that XXXX XXXX is showing on my credit report with Experian, This house was sold and paid in full XX/XX/XXXX. \\nExperian is showing the status as \" Open/Never late. Deferred, payments begin XX/XX/XXXX '' with an outstanding balance of {$220000.00} as of XX/XX/XXXX. Neither of this is correct! \\nI filed for bankruptcy in XX/XX/XXXX and the house was never reaffirmed so amount should have been changed to XXXX back then, but it was sold anyway on XX/XX/XXXX which also should have made this balance XXXX! This account is no longer open and payments are not due in XX/XX/XXXX?? This needs to be corrected immediatley, this is ridiculous! \\n\\nI've attached what I could from my XXXX XXXX account showing it is paid in full and balance is XXXX. No statements have been available since XX/XX/XXXX.                                                                                                                                                                                                                                                                                                                                                                                                                                                                                                                                                                                                                                                                                                                                                                                                                                                                                                                                                                                                                                                                                                                                                                                                                                                                                                                                                                                                                                                                                                                                                                                                                                                                                                                                                                                                                                                                                                                                                                                                                                                                                                                                                                                                                                                                                                                                                                                                                                                                                                                                                                                                                                                                                                                                                                                                                                                                                                                                                                                                                                                                                                                                                                                                                                                                                                                                                                                                                                                                                                                                                                                                                                                                      1\n",
       "I am tired of the run around from XXXX XXXX in trying to come out of forbearance ( via the XXXX XXXX ) which has been ongoing now for the last XXXX months. Where to begin? I was told up front I'd be able to enter a deferral plan upon exiting forbearance only to be told other-wise. I then subsequently wasted MONTHS on XXXX loan modification requests which were both denied. Now there has been mis-representation on who actually owns my Note which has led me to believe there are greater mechanisms occurring in an attempt to foreclose on my home. Per the attachment, after asking several times, XXXX XXXX informed me that XXXX XXXX XXXXXXXX XXXX XXXX XXXX XXXX ) holds my mortgage Note. However, I spoke to XXXX XXXX on XX/XX/XXXX and they told me that they DO NOT OWN MY MORTGAGE NOTE AND HAVENT SINCE XX/XX/XXXX. You can call XXXX ; ( then select Option # XXXX ) to verify this information. This therefore begs the question : Why would XXXX XXXX send me a letter fraudulently stating otherwise? ( again, defer to attached ) Now I most recently received a letter stating that XXXX XXXX XXXX XXXX XXXX XXXX XXXX, Series XXXX owns my Note. Yet its the exact same contact information per the XXXX XXXX XXXX XXXX. WHY CAN I NOT OBTAIN THEIR DIRECT PHONE NUMBER ASIDE FORM A FAKE, GENERIC MAILING ADDRESS? \\nXXXX XXXX NEEDS TO ADVISE ME WHO OWNS MY LOAN NOTE IMMEDIATELY ALONG WITH THEIR PHONE CONTACT INFORMATION OR I WILL HAVE NO CHOICE BUT TO PURUSE LEGAL ACTION ON THIS MATTER DUE TO THE FOLLOWING REASONS : 1 ) Mis-representing the owner of my Note ( for YEARS ) as being XXXX XXXX . 2 ) Not allowing me a deferral option post-forbearance after being told otherwise up front. All XXXXm repeatedly told is Deferral is not allowed. '' SAYS WHO???? I would like to hear it directly from this mysterious owner and/or investor of my Note.\\n\\n3 ) Not allowing me to take a loan modification either : I was asked UP FRONT if Id accept a higher payment for the 2nd loan modification request. After saying Yes and then waiting for XXXX months, I was told my loan modification request was denied because the payment couldnt be LOWERED. Really?? Why ask me then if Im ok with a higher payment up front if it was already known raising the payment wasnt even an option for a loan modification? I was never advised by any of the many representatives I spoke to for either of my loan modification requests, that approval was based on the presumption of a lower monthly payment.\\n\\n4 ) The imposter investor named XXXX? Last time I called, I was told by the representative XXXX was the investor holding my Note whom allegedly does not allow deferral options. Interestingly, I can not find any company by that name. I AM TIRED OF THE LIES, MIS-INFORMATION AND RUN AROUND. I AM READY AND ABLE TO RESUME MY MORTGAGE PAYMENTS BUT XXXX XXXX HAS MADE IT IMPOSSIBLE IN MY MANY ATTEMPTS TO DO SO AFTER MIS-LEADING ME UP FRONT. I feel that at this point, due to all of the mis-information, confusion and their unwillingness to offer any assistance except to tell me verbatim \" Sell your house '' or \" Get a 2nd job '' that I have no recourse but to pursue legal remediation. I am beyond exasparated at this point as to how things have gone thus far and hence, the reason I am filing this complaint. \\n\\nFEEDBACK FOR RESOLUTION 1 ) What is the phone number for this entity? Again, I called XXXX XXXX and I sure couldnt speak to anyone from this entity. \\n\\nXXXX XXXX XXXX XXXX XXXX, as XXXX for XXXX XXXX XXXX XXXX XXXX XXXX XXXX, Series XXXX XXXX XXXX XXXX XXXX XXXX, VA XXXX '' XXXX ) Why am I unable to contact the investor / owner of my Note directly? \\n\\n3 ) Why did XXXX XXXX ignore my original question of why does a loan modification presume a lower payment amount? When in fact, they asked me up front prior to my 2nd loan modification request if I would be ok with a higher payment? Again -- can I request a loan modification even if it's for a reasonably higher amount? \\n\\n4 ) Lastly, I still do not have a clear answer or proof that the investor or owner of my Note does NOT allow the deferral of my forbearance amount ... which essentially doubled because I had to wait another 7 months for them to tell me it was declined and during said period they told me not to make any payments. If I knew who my actual investor was, I could contact them directly to confirm this information.       1\n",
       "Name: Consumer complaint narrative, Length: 1478931, dtype: int64"
      ]
     },
     "execution_count": 19,
     "metadata": {},
     "output_type": "execute_result"
    }
   ],
   "source": [
    "df['Consumer complaint narrative'].value_counts()"
   ]
  },
  {
   "cell_type": "markdown",
   "id": "7d1398e3",
   "metadata": {},
   "source": [
    "#### Company public response"
   ]
  },
  {
   "cell_type": "code",
   "execution_count": 20,
   "id": "5a3a92c5",
   "metadata": {},
   "outputs": [
    {
     "data": {
      "text/plain": [
       "array(['Company has responded to the consumer and the CFPB and chooses not to provide a public response',\n",
       "       'Company believes it acted appropriately as authorized by contract or law',\n",
       "       nan, \"Company can't verify or dispute the facts in the complaint\",\n",
       "       \"Company believes the complaint provided an opportunity to answer consumer's questions\",\n",
       "       'Company believes complaint represents an opportunity for improvement to better serve consumers',\n",
       "       'Company disputes the facts presented in the complaint',\n",
       "       'Company believes complaint caused principally by actions of third party outside the control or direction of the company',\n",
       "       'Company believes the complaint is the result of a misunderstanding',\n",
       "       'Company believes complaint is the result of an isolated error',\n",
       "       'Company chooses not to provide a public response',\n",
       "       'Company believes complaint relates to a discontinued policy or procedure'],\n",
       "      dtype=object)"
      ]
     },
     "execution_count": 20,
     "metadata": {},
     "output_type": "execute_result"
    }
   ],
   "source": [
    "df['Company public response'].unique()"
   ]
  },
  {
   "cell_type": "code",
   "execution_count": 21,
   "id": "21d31021",
   "metadata": {
    "scrolled": true
   },
   "outputs": [
    {
     "data": {
      "text/plain": [
       "Company has responded to the consumer and the CFPB and chooses not to provide a public response                            2223065\n",
       "Company believes it acted appropriately as authorized by contract or law                                                    144100\n",
       "Company chooses not to provide a public response                                                                             52473\n",
       "Company believes the complaint is the result of a misunderstanding                                                           13183\n",
       "Company disputes the facts presented in the complaint                                                                        11231\n",
       "Company believes complaint caused principally by actions of third party outside the control or direction of the company       7851\n",
       "Company believes complaint is the result of an isolated error                                                                 6340\n",
       "Company believes complaint represents an opportunity for improvement to better serve consumers                                4892\n",
       "Company can't verify or dispute the facts in the complaint                                                                    4515\n",
       "Company believes the complaint provided an opportunity to answer consumer's questions                                         4152\n",
       "Company believes complaint relates to a discontinued policy or procedure                                                       111\n",
       "Name: Company public response, dtype: int64"
      ]
     },
     "execution_count": 21,
     "metadata": {},
     "output_type": "execute_result"
    }
   ],
   "source": [
    "df['Company public response'].value_counts()"
   ]
  },
  {
   "cell_type": "markdown",
   "id": "8564479e",
   "metadata": {},
   "source": [
    "#### Company"
   ]
  },
  {
   "cell_type": "code",
   "execution_count": 22,
   "id": "fe103b9b",
   "metadata": {},
   "outputs": [
    {
     "data": {
      "text/plain": [
       "array(['TRANSUNION INTERMEDIATE HOLDINGS, INC.',\n",
       "       'CCS Financial Services, Inc.', 'EQUIFAX, INC.', ...,\n",
       "       'Cleveland Mortgage Corporation', 'MyCRD', 'FHC Mortgage'],\n",
       "      dtype=object)"
      ]
     },
     "execution_count": 22,
     "metadata": {},
     "output_type": "execute_result"
    }
   ],
   "source": [
    "df['Company'].unique()"
   ]
  },
  {
   "cell_type": "code",
   "execution_count": 23,
   "id": "e3217bc9",
   "metadata": {},
   "outputs": [
    {
     "data": {
      "text/plain": [
       "EQUIFAX, INC.                             1072368\n",
       "TRANSUNION INTERMEDIATE HOLDINGS, INC.     993670\n",
       "Experian Information Solutions Inc.        902012\n",
       "BANK OF AMERICA, NATIONAL ASSOCIATION      140236\n",
       "WELLS FARGO & COMPANY                      128377\n",
       "                                           ...   \n",
       "SANFORD & ADAMS, Attorneys at Law PLLC          1\n",
       "Blueleven Capital Corporation                   1\n",
       "Zillow Group Marketplace, Inc.                  1\n",
       "Rate Rabbit, Inc.                               1\n",
       "FHC Mortgage                                    1\n",
       "Name: Company, Length: 7203, dtype: int64"
      ]
     },
     "execution_count": 23,
     "metadata": {},
     "output_type": "execute_result"
    }
   ],
   "source": [
    "df['Company'].value_counts()"
   ]
  },
  {
   "cell_type": "code",
   "execution_count": 24,
   "id": "8815dcb5",
   "metadata": {
    "scrolled": true
   },
   "outputs": [
    {
     "name": "stdout",
     "output_type": "stream",
     "text": [
      "Issues raised on 2024-04-17: HYUNDAI CAPITAL AMERICA, TD BANK US HOLDING COMPANY, Affirm Holdings, Inc, ProCollect, Inc., Bread Financial Holdings, Inc., Experian Information Solutions Inc., CITIBANK, N.A., CCS Financial Services, Inc., Atlanticus Services Corporation, Netspend Corporation, JPMORGAN CHASE & CO., CL Holdings LLC, CREDIT ACCEPTANCE CORPORATION, BANK OF AMERICA, NATIONAL ASSOCIATION, Rent Recovery Solutions, CORELOGIC INC, GOLDMAN SACHS BANK USA, Credit Control, LLC, TransferWise Ltd, CAPITAL ONE FINANCIAL CORPORATION, Axiom Acquisition Ventures, LLC, Continental Finance Company, LLC, SYNCHRONY FINANCIAL, Resurgent Capital Services L.P., Ocwen Financial Corporation, Revenued LLC, EQUIFAX, INC., Navient Solutions, LLC., PORTFOLIO RECOVERY ASSOCIATES INC, TRANSUNION INTERMEDIATE HOLDINGS, INC., American Credit Acceptance, LLC, MOHELA, EdFinancial Services, Chime Financial Inc, CAINE & WEINER COMPANY, INC., TOYOTA MOTOR CREDIT CORPORATION, ENCORE CAPITAL GROUP INC., Comerica, LAKEVIEW LOAN SERVICING, LLC, ENOVA INTERNATIONAL, INC., OneMain Finance Corporation, WELLS FARGO & COMPANY, RoundPoint Mortgage Servicing LLC, Nelnet, Inc., Business Financing Corporation, SECURITY FINANCE CORP, HUNTINGTON NATIONAL BANK, THE, AMERICAN HONDA FINANCE CORP, Mercedes Benz Financial Services, ID Analytics, Inc., I.C. System, Inc., HW Holding, Inc, Law Office of Michael J. Scott, PC, Uplift, Inc, LEXISNEXIS, M&T BANK CORPORATION, CARRINGTON MORTGAGE SERVICES, LLC, OPORTUN FINANCIAL CORPORATION, BMW Financial Services NA, LLC, PNC Bank N.A., TapTap Send Inc., TRUIST FINANCIAL CORPORATION, CITIZENS FINANCIAL GROUP, INC., Mr. Cooper Group Inc., TRANSWORLD SYSTEMS INC, BSI Financial Holdings, Inc., Shellpoint Partners, LLC, CHARLES SCHWAB CORPORATION, THE, BANK OF NEW YORK MELLON CORPORATION, THE, Westlake Services, LLC, AmeriHome Mortgage Company, LLC, U.S. BANCORP, GLOBAL SOLUTION BIZ LLC., Deinde Online Services, LLC, Lockhart, Morris & Montgomery Inc., Advance America, Cash Advance Centers, Inc., Incomm Holdings Inc., BMO HARRIS BANK NATIONAL ASSOCIATION, Rushmore Service Center, LLC, Nelson Cruz & Associates LLC, Prospect Financial Group, Inc, LoanCare, LLC, Remitly, Inc., United Financial Service, Radius Global Solutions LLC, Spring Oaks Capital, LLC, Bridgecrest Acceptance Corporation, MRS BPO, LLC, CrossCountry Mortgage LLC, Pacific Rim Alliance Corporation, AMERICAN EXPRESS COMPANY, NCB Management Services Inc., Credit Karma, LLC, Selene Holdings LLC, Sequium Asset Solutions, LLC, Advanced Resolution Services Inc., Consumer Portfolio Services, Inc., PENNYMAC LOAN SERVICES, LLC., American First Finance, Inc., SANTANDER HOLDINGS USA, INC., FIRST NATIONAL BANK OF OMAHA, T.S. Holdings, CAC Financial Corp, Freedom Mortgage Company, NAVY FEDERAL CREDIT UNION, SELECT PORTFOLIO SERVICING, INC., CCF Intermediate Holdings LLC, NCSPLUS INCORPORATED, CBC Companies, Inc., W&A Intermediate Co., LLC, PINNACLE RECOVERY, INC., LFG Data Services Holdings, LP, General Motors Financial Company, Inc., Rowland Avenue Management, Inc. A/KA Columbia Debt Recovery, LLC d/b/a Genesis, Convergent Resources, Inc., Cascade CISS Holdings, LLC, Absolute Resolutions Corp., Block, Inc., Self Financial Inc., FC HoldCo LLC, UNITED SERVICES AUTOMOBILE ASSOCIATION, Kramer & Frank, P.C., Sklar Law LLC, Foris DAX, Inc., Prosper Marketplace, Inc., National Credit Systems,Inc., SOFI TECHNOLOGIES, INC., Healthcare Finance Direct LLC., Kriya Capital, LLC, Eastern Account Systems of Connecticut, Inc., CREDIT WORLD SERVICES, INC., Debt Recovery Solutions, LLC, SIMMONS FIRST NATIONAL CORPORATION, Harris & Harris, Ltd., Capio Partners, LLC, REGIONS FINANCIAL CORPORATION, Hanna Holdings Inc, Synovus Bank, World Acceptance Corporation, Paypal Holdings, Inc, Clark County Collection Service, Lac Courte Oreilles Financial Services II, Aspen Yo LLC, ARVEST BANK GROUP, INC., The CMI Group, Inc., FIFTH THIRD FINANCIAL CORPORATION, CARDINAL FINANCIAL COMPANY, LIMITED PARTNERSHIP, Global Lending Services LLC, Creditors Bureau Associates, Blackhawk Network Holdings Inc., Upgrade, Inc., Grant & Weber, Financial Management Solutions, LLC, Specialized Loan Servicing Holdings LLC, Sigue Corp., Carvana Group, LLC, OLIPHANT FINANCIAL, LLC, Possible Financial Inc, California Business Bureau, Inc., Credit Corp Solutions Inc., Lugano Capital, Inc. d/b/a Start Auto Finance, FAIR COLLECTIONS & OUTSOURCING, INC., PENTAGON FEDERAL CREDIT UNION, Williams & Fudge, Inc, Paramount GR Holdings, LLC, Better Mortgage, Inc., DigniFi, Maximus Education, LLC dba Aidvantage, Rausch Sturm LLP, TriVerity, Inc., ALLY FINANCIAL INC., Contemporary Information Corp, Starmark Financial LLC, VW Credit, The Bureaus, Inc., TomoCredit Inc., Io, Inc., SF VAGO, LLC, CLGF Holdco 1, LLC, Trident Asset Management, L.L.C., NISSAN MOTOR ACCEPTANCE COMPANY LLC, Sterling Infosystems Inc., Fidelity National Information Services, Inc. (FNIS), Foursight Holding LLC, American Collection Services, Inc. (OK, TX), Synergetic Communication Inc, SettlementOne Valuation, LLC, CBA of GA, Inc., Credit Service International Corp, Hidden Oak Group, Inc., Aargon Agency, Inc., LJ Ross Associates, Army and Air Force Exchange Service, R.M. Galicia, Inc., Midwest Fidelity Services, LLC, ACIMA CREDIT, LLC, Security Credit Services, LLC, Amsher Collection Services, Inc., Tenant Data Services Inc, AR Resources, Inc. (FL), BARCLAYS BANK DELAWARE, Automotive Leasing Specialists, L.L.C., Farrell Holdings, LLC, P&B Capital Group, LLC, Meade & Associates, Inc., V and H Portfolio, Upstart Holdings, Inc., Universal Account Servicing, LLC, ALCHRO INC., Synter Resource Group, LLC., Kikoff Inc., National Credit Adjusters, LLC, Capstone Credit & Collection, LLC., Levy & Associates, LLC, Paramount Recovery Systems, L.P., DISCOVER BANK, AES/PHEAA, First Technology Federal Credit Union, Opportunity Financial, LLC, Holloway Credit Solutions, CNG FINANCIAL CORPORATION, Helvey & Associates, Inc., Warsaw, IN Branch, Penn Credit Corporation, DIGITAL FEDERAL CREDIT UNION, Castle Credit Co Holdings, LLC, Chicago, IL Branch, Carter-Young, Inc., Amscot Corporation, Early Warning Services, LLC, Rozlin Financial Group, Inc., Open Dealer Exchange, LLC, NEW YORK COMMUNITY BANCORP INC, Texas Guaranteed, Rocket Mortgage, LLC, FISERV INC., Capital Management Services, LP, First Financial Resources, Inc., Kason Credit Corporation, Patient Accounting Service Center, CreditNinja Lending, LLC, NATIONS DIRECT MORTGAGE, LLC, Uprova Credit, LLC, SUNRISE CREDIT SERVICES, INC, Aldous & Associates, PLLC, First National Collection Bureau, Inc., Diversified Adjustment Service, Inc., Colony Brands, Inc., Merchants Adjustment Service, Inc., Associated Collectors, Inc., PLANET HOME LENDING, LLC, Southwest Recovery Services, Inc., Advantage Credit, Inc., WLCC, The Receivable Management Services LLC, Financial Assistance Inc, MOUNTAIN AMERICA FEDERAL CREDIT UNION, Kovo, AUSSRQ Holdings, LLC, FirstPoint Collection Resources, Ability Recovery Services, LLC, Monarch Recovery Holdings, Inc., LAKE MICHIGAN CREDIT UNION, Granite Edvance Corporation, STATE EMPLOYEES CREDIT UNION, Zions Debt Holdings, Monterey Financial Services LLC, Torriere Holdings INC, Absolute Recovery Services, LLC, Bounce AI, Inc., First Advantage LNS Inc., J J Marshall & Associates, Inc, CIBC BANCORP USA INC., Avant Holding Company, Inc., Consumer Adjustment Company Incorporated, NPAS, Inc., FIRST CITIZENS BANCSHARES, INC., CURO Intermediate Holdings, Thaxton Investment Corporation, Bright Capital Inc, MONEYGRAM PAYMENT SYSTEMS WORLDWIDE INC, Klima, Peters & Daly, P.A., Southwest Credit Systems, L.P., Sentry Credit, Inc., Adler Wallach & Associates, Inc., R & B Corporation of Virginia, AmeriCash Holding LLC, Prince Parker & Associates, BTH Management, CAVALRY INVESTMENTS, LLC, Peer Advisors, LLC, Arbor Professional Solutions, Inc., FIRST COMMONWEALTH FINANCIAL CORPORATION, BROKER SOLUTIONS, INC., SANDY SPRING BANCORP, INC., Duvera Billing Services, LLC, Wheels of Chicago, Inc., PROSPERITY BANCSHARES, INC., CarMax, Inc., MoneyLion Inc., Couch Lambert LLC, PARAMOUNT RESIDENTIAL MORTGAGE GROUP, Tower Loan of Mississippi, Inc., TrueAccord Corp., Financial Credit Network Inc, Rubin & Rothman, LLC, WEBSTER BANK, NATIONAL ASSOCIATION, Marlette Funding, LLC, FIRST ADVANTAGE CORPORATION, SLM CORPORATION, ROBINHOOD MARKETS INC., The Law Offices of Kenosian & Miele, LLP, National Enterprise Systems, Inc., Collection Management Holdings, LLC, Apelles, LLC, Palm Beach Credit Adjustors, Inc, EdAid Limited, WSFS FINANCIAL CORPORATION, Guild Mortgage Company LLC, Revco Management, LLC, Fay Servicing, LLC, KEYCORP\n",
      "\n",
      "Issues raised on 2024-04-02: EQUIFAX, INC., FORD MOTOR CREDIT CO., I.C. System, Inc., TRANSUNION INTERMEDIATE HOLDINGS, INC., CrossCountry Mortgage LLC, CITIBANK, N.A., T.S. Holdings, WELLS FARGO & COMPANY, Experian Information Solutions Inc., ENCORE CAPITAL GROUP INC., BANK OF AMERICA, NATIONAL ASSOCIATION, AMERICAN EXPRESS COMPANY, First Credit Services Inc., JPMORGAN CHASE & CO., CL Holdings LLC, Affirm Holdings, Inc, U.S. BANCORP, DISCOVER BANK, TD BANK US HOLDING COMPANY, CORELOGIC INC, Bread Financial Holdings, Inc., UNITED SERVICES AUTOMOBILE ASSOCIATION, SinglePoint GI, CAPITAL ONE FINANCIAL CORPORATION, ProCollect, Inc., BMO HARRIS BANK NATIONAL ASSOCIATION, MOHELA, Reliant Capital Solutions, LLC, SCHOOLSFIRST FEDERAL CREDIT UNION, SYNCHRONY FINANCIAL, Consumer Portfolio Services, Inc., United Revenue Corporation, SOUTHSTATE CORPORATION, Nelnet, Inc., Mr. Cooper Group Inc., SUNRISE CREDIT SERVICES, INC, CNG FINANCIAL CORPORATION, PENNYMAC LOAN SERVICES, LLC., CARD Corporation, CITIZENS FINANCIAL GROUP, INC., Resurgent Capital Services L.P., NAVY FEDERAL CREDIT UNION, Paypal Holdings, Inc, Credit Service Company, INC, BARCLAYS BANK DELAWARE, Army and Air Force Exchange Service, Monarch Recovery Holdings, Inc., Maximus Education, LLC dba Aidvantage, CBC Companies, Inc., TOYOTA MOTOR CREDIT CORPORATION, Aspen Yo LLC, ALLIANT CREDIT UNION, Tower Loan of Mississippi, Inc., Rent Recovery Solutions, CHARLES SCHWAB CORPORATION, THE, COLORADO HOUSING AND FINANCE AUTHORITY, Bull City Financial Solutions, Inc, REGIONS FINANCIAL CORPORATION, Shellpoint Partners, LLC, Adler Wallach & Associates, Inc., OPTUM BANK, INC., National Credit Adjusters, LLC, W&A Intermediate Co., LLC, Law Office of Michael J. Scott, PC, Freedom Mortgage Company, Block, Inc., P&B Capital Group, LLC, CREDIT ACCEPTANCE CORPORATION, PENTAGON FEDERAL CREDIT UNION, National Credit Systems,Inc., River Heights Capital LLC, LEXISNEXIS, OneMain Finance Corporation, CashRepublic Holdings, Inc., Westlake Services, LLC, TRUIST FINANCIAL CORPORATION, NISSAN MOTOR ACCEPTANCE COMPANY LLC, Carter-Young, Inc., Aqua Finance, Inc., Berlin-Wheeler, Inc. (Kansas), BMW Financial Services NA, LLC, GOLDMAN SACHS BANK USA, American First Finance, Inc., Rozlin Financial Group, Inc., SOFI TECHNOLOGIES, INC., ALLY FINANCIAL INC., PNC Bank N.A., Specialized Loan Servicing Holdings LLC, Upgrade, Inc., TrueAccord Corp., Credit Karma, LLC, Blockchain.com, Inc., Global Lending Services LLC, Denali Capital Holdings, LLC, ID Analytics, Inc., PORTFOLIO RECOVERY ASSOCIATES INC, Duvera Billing Services, LLC, Carvana Group, LLC, Chime Financial Inc, CCF Intermediate Holdings LLC, ENOVA INTERNATIONAL, INC., Ocwen Financial Corporation, Mercedes Benz Financial Services, Conn's, Inc., SLM CORPORATION, ACIMA CREDIT, LLC, The Bureaus, Inc., SUN WEST MORTGAGE COMPANY, INC., Fay Servicing, LLC, Opportunity Financial, LLC, PLANET HOME LENDING, LLC, CLGF Holdco 1, LLC, TRANSWORLD SYSTEMS INC, SELECT PORTFOLIO SERVICING, INC., Sterling Infosystems Inc., Duncan Solutions, lnc., National Recovery Solutions, LLC, HUNTINGTON NATIONAL BANK, THE, Absolute Resolutions Corp., Debt Recovery Solutions, LLC, Incomm Holdings Inc., Atlanticus Services Corporation, Dovenmuehle Mortgage, Inc., Amsher Collection Services, Inc., Self Financial Inc., TSC Accounts Receivable Solutions, Navient Solutions, LLC., Kelsting Group, Inc., SANTANDER HOLDINGS USA, INC., FIRST NATIONAL BANK OF OMAHA, Bridge It, Inc., Penn Credit Corporation, Creditors' Protection Service, Inc., CADENCE BANK, AMERICAN HONDA FINANCE CORP, Linebarger Goggan Blair & Sampson LLP, Accounts Receivable Services, Advanced Resolution Services Inc., First Help Financial, LLC, Certegy Holdings, LLC, MoneyLion Inc., 1st Franklin Financial Corporation, Porsche Financial Services, Inc., Unifin Inc., Lockhart, Morris & Montgomery Inc., Fidelity National Information Services, Inc. (FNIS), Student Loan Solutions, LLC, 60 Month Loans, Inc., Kriya Capital, LLC, Absolute Recovery Services, LLC, Continental Services Group, Inc. d/b/a ConServe, Central Portfolio Control Inc., TekCollect Inc., Colony Brands, Inc., BANK OF NEW YORK MELLON CORPORATION, THE, IOWA STUDENT LOAN LIQUIDITY CORPORATION, Financial Assistance Inc, Early Warning Services, LLC, APPLE FINANCIAL HOLDINGS, INC., Monterey Financial Services LLC, D&A Services, LLC, Halsted Financial Services, LLC., GLOBAL SOLUTION BIZ LLC., Comerica, Aldous & Associates, PLLC, Sigue Corp., The CBE Group, Inc., MRS BPO, LLC, Omega RMS, LLC, FirstPoint Collection Resources, SUN LOAN COMPANY INC., Velocity Portfolio Group, Deinde Online Services, LLC, AmeriCollect, Open Dealer Exchange, LLC, Southwest Recovery Services, Inc., Ability Recovery Services, LLC, General Motors Financial Company, Inc., LD Holdings Group, LLC, HYUNDAI CAPITAL AMERICA, United Collection Bureau, Inc., Accounts Management, Inc, Kornerstone Credit,  LLC., Possible Financial Inc, Support Collectors, Inc., Millco Management, Torriere Holdings INC, Commerce Home Mortgage, Inc, AMERICA FIRST FEDERAL CREDIT UNION, Exeter Finance, LLC., PRG Ventures, Inc, AMA Advisors, LLC., Pinnacle Credit Services, LLC, GREENSTATE CREDIT UNION, STATE EMPLOYEES CREDIT UNION, CCS Financial Services, Inc., FIRSTBANK PUERTO RICO, Paradigm Assets, LLC, Specialized Collection Systems, Inc., Orions Management Group, LLC, Receivables Management Partners, LLC, Rowland Avenue Management, Inc. A/KA Columbia Debt Recovery, LLC d/b/a Genesis, Larry H. Miller Group of Companies, LFG Data Services Holdings, LP, First Technology Federal Credit Union, Sezzle Inc., Coinbase, Inc., ENTERPRISE FINANCIAL SERVICES CORP, HW Holding, Inc, Payward Ventures Inc. dba Kraken, MOUNTAIN AMERICA FEDERAL CREDIT UNION, ARS National Services, Inc., NCB Management Services Inc., UNITED BANKSHARES, INC., BETHPAGE FEDERAL CREDIT UNION, AES/PHEAA, Butler, Butler & Rowse-Oberle, P.L.L.C., McCalla Raymer Leibert Pierce, LLC, FISERV INC., Sequium Asset Solutions, LLC, A&D Mortgage LLC, NEW YORK COMMUNITY BANCORP INC, ONLINE Information Services, Inc., RentDebt Automated Collections, LLC, Prince Parker & Associates, Upstart Holdings, Inc., Netspend Corporation, McCarthy, Burgess & Wolff, Inc., SunTx Capital Partners, Kass Shuler, P.A., Synergetic Communication Inc, AUTOMOTIVE CREDIT CORPORATION, Security Credit Services, LLC, Collection Bureau of the Hudson Valley, Inc., Camelot Financial Services, Inc., United Shore Financial Services, LLC, Scheer, Green & Burke L.P.A., Pathfinder Credit Services, Maury Cobb, Attorney at Law, LLC, Genesis Financial & Payment Systems Holdings, LLC, Stellantis Financial Services US Corp., Eastern Account Systems of Connecticut, Inc., Community Loan Servicing, LLC (formerly known as Bayview Loan Servicing, LLC), Bridgecrest Acceptance Corporation, Alorica Inc., FIFTH THIRD FINANCIAL CORPORATION, CAINE & WEINER COMPANY, INC., Starmark Financial LLC, BTH Management, Avant Holding Company, Inc., Regional Management Corporation, WESTERN UNION COMPANY, THE, Marauder Corporation, Asset Recovery Solutions, LLC, Sentry Recovery and Collections, Inc., Consumer Adjustment Company Incorporated, SECURITY SERVICE FEDERAL CREDIT UNION, Radius Global Solutions LLC, FIRST ADVANTAGE CORPORATION, Source Receivables Management LLC, Checkr, Inc, Palisades Funding Corporation, FMA Alliance, Ltd., Remitly, Inc., Consumer Financial Services Solutions, Inc., FAIR COLLECTIONS & OUTSOURCING, INC., FREEDOM FINANCIAL NETWORK, MARINER FINANCE, LLC, CarMax, Inc., Factor Trust, Denefits LLC, DIGITAL FEDERAL CREDIT UNION, Winklevoss Exchange LLC, Merchants and Medical Credit Corporation, Inc., The Check Cashing Place, Inc., American Profit Recovery, Inc., Marlborough, MA Branch, CAVALRY INVESTMENTS, LLC, COMMERCE BANK, ROBINHOOD MARKETS INC., Mercari, Inc., Tally Technologies, M&T BANK CORPORATION, CULLEN/FROST BANKERS, INC., Kashable LLC, Synovus Bank, Spring Oaks Capital, LLC, FIRST HORIZON BANK, Rocket Mortgage, LLC, Data Mortgage Inc., Strategic Financial Solutions, LLC, FC HoldCo LLC, CIG FINANCIAL LLC, CARRINGTON MORTGAGE SERVICES, LLC, Muskegon Car Credit, Inc., DHI Mortgage Company, Real Time Group, Inc., BANK OZK, Commonwealth Financial Systems, Inc., Kingston Financial, LLC, SECURITY FINANCE CORP, LendingUSA, RoundPoint Mortgage Servicing LLC, HSBC NORTH AMERICA HOLDINGS INC., Suttell, Hammer & White, P.S, ZWICKER & ASSOCIATES, BANCO POPULAR DE PUERTO RICO, RANDOLPH-BROOKS FEDERAL CREDIT UNION, LAKEVIEW LOAN SERVICING, LLC\n",
      "\n",
      "Issues raised on 2024-03-21: TRANSUNION INTERMEDIATE HOLDINGS, INC., EQUIFAX, INC., CAPITAL ONE FINANCIAL CORPORATION, BANK OF AMERICA, NATIONAL ASSOCIATION, Experian Information Solutions Inc., ALLY FINANCIAL INC., Shellpoint Partners, LLC, Foris DAX, Inc., W&A Intermediate Co., LLC, Early Warning Services, LLC, PORTFOLIO RECOVERY ASSOCIATES INC, Resurgent Capital Services L.P., SANTANDER HOLDINGS USA, INC., Mobiloans, LLC, SYNCHRONY FINANCIAL, TomoCredit Inc., U.S. BANCORP, AMERICAN EXPRESS COMPANY, LEXISNEXIS, Freedom Mortgage Company, BMO HARRIS BANK NATIONAL ASSOCIATION, Goal Structured Solutions, LLC, MOHELA, KEYCORP, SELECT PORTFOLIO SERVICING, INC., Google Compare Credit Cards Inc., CREDIT ACCEPTANCE CORPORATION, DISCOVER BANK, Mr. Cooper Group Inc., Bread Financial Holdings, Inc., Westlake Services, LLC, ENCORE CAPITAL GROUP INC., TD BANK US HOLDING COMPANY, Affirm Holdings, Inc, LFG Data Services Holdings, LP, Navient Solutions, LLC., WELLS FARGO & COMPANY, UNITED SERVICES AUTOMOBILE ASSOCIATION, Dovenmuehle Mortgage, Inc., CCS Financial Services, Inc., VW Credit, PENTAGON FEDERAL CREDIT UNION, NISSAN MOTOR ACCEPTANCE COMPANY LLC, Nelnet, Inc., Pressler & Pressler, LLP, Consumer Adjustment Company Incorporated, Maximus Education, LLC dba Aidvantage, EdFinancial Services, CITIBANK, N.A., Millco Management, Cedar Holdings, Inc., GREENSTATE CREDIT UNION, Jenkins, Wagnon & Young, P.C., FIFTH THIRD FINANCIAL CORPORATION, Kinum, Inc., Indianapolis, IN Branch, RANDOLPH-BROOKS FEDERAL CREDIT UNION, NEW YORK COMMUNITY BANCORP INC, Bridgecrest Acceptance Corporation, Avant Holding Company, Inc., JPMORGAN CHASE & CO., HUNTINGTON NATIONAL BANK, THE, Rocket Mortgage, LLC, Mercedes Benz Financial Services, Atlanticus Services Corporation, Guild Mortgage Company LLC, SOFI TECHNOLOGIES, INC., RMS-Recovery Management Services, Inc., ALLIANT CREDIT UNION, Camino Financial Inc., CL Holdings LLC, MARINER FINANCE, LLC, Fay Servicing, LLC, Westcreek Financial, A.R.M. Solutions, Inc., Incomm Holdings Inc., Lugano Capital, Inc. d/b/a Start Auto Finance, Spring Oaks Capital, LLC, GOLDMAN SACHS BANK USA, Synovus Bank, AES/PHEAA, SinglePoint GI, RFNA, LP, CORELOGIC INC, CAINE & WEINER COMPANY, INC., Valon Technologies, Inc., Netspend Corporation, Post Lake Lending Inc., OPORTUN FINANCIAL CORPORATION, Sequoia Financial Services, Resolve Partners, LLC, NCB Management Services Inc., ROYAL UNITED MORTGAGE LLC, CITIZENS FINANCIAL GROUP, INC., Sezzle Inc., FC HoldCo LLC, Paypal Holdings, Inc, BMW Financial Services NA, LLC, Remex, Inc., BARCLAYS BANK DELAWARE, Reach Financial LLC, Rowland Avenue Management, Inc. A/KA Columbia Debt Recovery, LLC d/b/a Genesis, NRA Group, LLC, LoanCare, LLC, CCF Intermediate Holdings LLC, ID Analytics, Inc., Professional Debt Mediation, Inc., International Computer Systems, Inc., Bright Capital Inc, PNC Bank N.A., ENOVA INTERNATIONAL, INC., Driveway Finance Corporation, Self Financial Inc., MoneyLion Inc., Credit Corp Solutions Inc., Chime Financial Inc, United Shore Financial Services, LLC, TOYOTA MOTOR CREDIT CORPORATION, Kashia Services, LD Holdings Group, LLC, Lockhart, Morris & Montgomery Inc., Regional Management Corporation, Credit Control, LLC, Diverse Funding Associates LLC, ProCollect, Inc., Frontline Asset Strategies, LLC, Sigue Corp., CarMax, Inc., BANK OF NEW YORK MELLON CORPORATION, THE, Credit Fresh Holdings Inc, Weber & Olcese, PLC, Kikoff Inc., Round Up Ventures, L.P., PENNYMAC LOAN SERVICES, LLC., LAW OFFICE OF JOHN E. LINDNER P.A., HYUNDAI CAPITAL AMERICA, CBC Companies, Inc., TRANSWORLD SYSTEMS INC, Credit Karma, LLC, Rubin & Rothman, LLC, CHARLES SCHWAB CORPORATION, THE, Continental Services Group, Inc. d/b/a ConServe, Momnt Technologies, Inc., Southwest Credit Systems, L.P., Patient Accounting Service Center, NAVY FEDERAL CREDIT UNION, Berlin-Wheeler, Inc. (Kansas), PREFERRED CREDIT INC, Kimball, Tirey & St. John LLP, Block, Inc., BOEING EMPLOYEES CREDIT UNION, ROBINHOOD MARKETS INC., Marlette Funding, LLC, Credit Service Company, INC, Halsted Financial Services, LLC., Byrider Franchising, LLC, Village Capital & Investment LLC, Kriya Capital, LLC, NEXBANK CAPITAL, INC., BANKERS HEALTHCARE GROUP LLC, Advantage Credit, Inc., BAM Management US Holdings Inc., Advanced Resolution Services Inc., Express Collections, Inc., Fidelity National Information Services, Inc. (FNIS), FORD MOTOR CREDIT CO., Chrysalis Holdings LLC, Upgrade, Inc., Concord Servicing Corporation, ATG Credit, LLC, Valley Credit Service, Inc. (OR), CARRINGTON MORTGAGE SERVICES, LLC, M&T BANK CORPORATION, OneMain Finance Corporation, Cascade CISS Holdings, LLC, CLGF Holdco 1, LLC, Diversified Adjustment Service, Inc., ACIMA CREDIT, LLC, LYON SERVICES CORPORATION, Opportunity Financial, LLC, Zions Debt Holdings, Consumer Portfolio Services, Inc., Tribal Lending Enterprise, Inc., Financial Recovery Services, Inc., ECMC GROUP, INC., Debt Recovery Solutions, LLC, Sterling Infosystems Inc., Continental Finance Company, LLC, CARDINAL FINANCIAL COMPANY, LIMITED PARTNERSHIP, Ability Recovery Services, LLC, Southern Management Systems Inc., Ocwen Financial Corporation, William D. Meeker Enterprises, Inc., First Credit Services Inc., General Motors Financial Company, Inc., Robinson Economic Development Corporation, Southwest Recovery Services, Inc., ARC Management Group, LLC, Sensible Auto Lending, LLC, Tower Loan of Mississippi, Inc., CHECKredi of Kentucky, LLC, Asset Recovery Solutions, LLC, Debois, Inc., National Credit Adjusters, LLC, CAVALRY INVESTMENTS, LLC, Associated Credit Services, Inc., I.C. System, Inc., Axiom Acquisition Ventures, LLC, WSFS FINANCIAL CORPORATION, Waypoint Resource Group, LLC, Tesla, Inc., RentDebt Automated Collections, LLC, American First Finance, Inc., HEARTLAND PAYMENT SYSTEMS INC, Allied Collection Services, Inc. (Nevada), Professional Collectors Corp., DIGITAL FEDERAL CREDIT UNION, Capio Partners, LLC, Linebarger Goggan Blair & Sampson LLP, Solar Mosaic LLC, Credit Systems International, Inc., Selene Holdings LLC, 1st Franklin Financial Corporation, West Coast Servicing, Inc., Statewide Credit Services Corp., MortgagePros, LLC, Bull City Financial Solutions, Inc, HSBC NORTH AMERICA HOLDINGS INC., Amscot Corporation, TRUIST FINANCIAL CORPORATION, U.S. Collections West, Inc., FIRST ADVANTAGE CORPORATION, United Credit and Collections Inc., FISERV INC., CCM Finance LLC, Security Credit Services, LLC, Leafy Financial, LLC, Professional Credit Management, Inc, The Sayer Law Group, P.C., AXOS FINANCIAL, INC., Payfare International Inc., LJ Ross Associates, V and H Portfolio, Penn Credit Corporation, Velocity Portfolio Group, The CMI Group, Inc., Amsher Collection Services, Inc., Coinbase, Inc., MOUNTAIN AMERICA FEDERAL CREDIT UNION, InDebted Corporation, FlexShopper, Inc, MORGAN STANLEY & CO. LLC, Open Dealer Exchange, LLC, Optio Solutions, LLC, BANK OZK, United Collection Bureau, Inc., SF VAGO, LLC, HireRight Solutions, Inc., Great American Finance Co, Big Picture Loans, LLC, BTH Management, Specialized Loan Servicing Holdings LLC, FirstPoint Collection Resources, LOBEL FINANCIAL CORPORATION, National Account Systems of Omaha, LLC, ZWICKER & ASSOCIATES, TAG Intermediate Holding Company, LLC, Checkr, Inc, Hollis Cobb Associates, SN SERVICING CORPORATION, Collection Bureau of America Ltd., Firstsource Business Process Services, LLC, Upstart Holdings, Inc., The CBE Group, Inc., SMS Financial, LLC, BlueChip Financial, American Financial Network Inc., American Credit Acceptance, LLC, Loqbox US Inc, APPLE FINANCIAL HOLDINGS, INC., BSI Financial Holdings, Inc., ZIONS BANCORPORATION, HW Holding, Inc, The Aligned Company DBA Extra, CITY NATIONAL BANK, National Credit Systems,Inc., Williams & Fudge, Inc, Revco Management, LLC, RoundPoint Mortgage Servicing LLC, Conn's, Inc., FAIR COLLECTIONS & OUTSOURCING, INC., CENTRAL BANCOMPANY, INC, Factor Trust, Pro Com Services of Illinois, Inc., LendingUSA, Colony Ridge Inc., Longbridge Financial, LLC, Radius Global Solutions LLC, World Acceptance Corporation, PatientFi, LLC, Duvera Billing Services, LLC, Rent Recovery Solutions, SUNRISE CREDIT SERVICES, INC, Comerica, Professional Finance Company, Inc., Lendbuzz Inc., NATIONAL DEBT RELIEF LLC, Americor Funding, LLC, PRIMARY RESIDENTIAL MORTGAGE, Capital Accounts, LLC, P&B Capital Group, LLC, Exeter Finance, LLC., T.S. Holdings, PLS GROUP, INC, Absolute Resolutions Corp., World Omni Financial Corp., Global Lending Services LLC, REGIONS FINANCIAL CORPORATION, ARVEST BANK GROUP, INC., OPTUM BANK, INC., Pagliaro Inc. dba Collection Associates, FIRST HORIZON BANK, Client Services, Inc., Unisa, Inc, Colony Brands, Inc.\n",
      "\n",
      "Issues raised on 2024-04-11: BANK OF AMERICA, NATIONAL ASSOCIATION, Valon Technologies, Inc., GREENSKY OPERATIONS, LLC, Experian Information Solutions Inc., TRANSWORLD SYSTEMS INC, DISCOVER BANK, CBC Companies, Inc., NRA Group, LLC, JPMORGAN CHASE & CO., ENCORE CAPITAL GROUP INC., Bread Financial Holdings, Inc., T.S. Holdings, AES/PHEAA, TD BANK US HOLDING COMPANY, LEXISNEXIS, FIRST PORTFOLIO SERVICING INC, National Credit Systems,Inc., Paramount GR Holdings, LLC, CITIBANK, N.A., Spring Oaks Capital, LLC, CCS Financial Services, Inc., Navient Solutions, LLC., CAPITAL ONE FINANCIAL CORPORATION, TRUIST FINANCIAL CORPORATION, FIFTH THIRD FINANCIAL CORPORATION, MRS BPO, LLC, CLGF Holdco 1, LLC, United Shore Financial Services, LLC, CL Holdings LLC, EQUIFAX, INC., TRANSUNION INTERMEDIATE HOLDINGS, INC., GOLDMAN SACHS BANK USA, FIRST NATIONAL BANK OF OMAHA, Source Receivables Management LLC, Affirm Holdings, Inc, W&A Intermediate Co., LLC, Ray Klein, Inc., First Advantage LNS Inc., AR Resources, Inc., NAVY FEDERAL CREDIT UNION, Lendmark Financial Services, Credit Control, LLC, SYNCHRONY FINANCIAL, Nelnet, Inc., Knight Adjustment Bureau, NCB Management Services Inc., CORELOGIC INC, WLCC, HEAD MERCANTILE CO., INC., Security Credit Services, LLC, SANTANDER HOLDINGS USA, INC., OneMain Finance Corporation, REGIONS FINANCIAL CORPORATION, Sequium Asset Solutions, LLC, CREDIT ACCEPTANCE CORPORATION, KEYCORP, Consumer Portfolio Services, Inc., Capio Partners, LLC, ALLY FINANCIAL INC., WELLS FARGO & COMPANY, American Credit Acceptance, LLC, CrossCountry Mortgage LLC, Resurgent Capital Services L.P., First National Collection Bureau, Inc., FIRST NATIONAL BANK OF PENNSYLVANIA, Self Financial Inc., ID Analytics, Inc., Exeter Finance, LLC., Mr. Cooper Group Inc., CARRINGTON MORTGAGE SERVICES, LLC, M1 Holdings Inc., Carvana Group, LLC, SOFI TECHNOLOGIES, INC., Professional Recovery Management, World Omni Financial Corp., Remitly, Inc., Synovus Bank, HUNTINGTON NATIONAL BANK, THE, PORTFOLIO RECOVERY ASSOCIATES INC, AMERICAN EXPRESS COMPANY, U.S. BANCORP, Westcreek Financial, HYUNDAI CAPITAL AMERICA, CAINE & WEINER COMPANY, INC., FC HoldCo LLC, Chime Financial Inc, I.C. System, Inc., Accscient, LLC, Palmar, Inc., NISSAN MOTOR ACCEPTANCE COMPANY LLC, PNC Bank N.A., Shellpoint Partners, LLC, Radius Global Solutions LLC, DriveTime, Specialized Loan Servicing Holdings LLC, Comerica, EdFinancial Services, Coinbase, Inc., Modern Asset Management, Inc., United PanAm Financial Corp., RFNA, LP, Fay Servicing, LLC, TransferWise Ltd, BlockFi Inc, Eagle Recovery Associates, Inc., Trans-Fast Remittance LLC, Bright Capital Inc, MCI Mortgage Inc, TOYOTA MOTOR CREDIT CORPORATION, The CMI Group, Inc., Consumer Financial Services Solutions, Inc., Real Time Group, Inc., Harris & Harris, Ltd., Absolute Resolutions Corp., AMERISAVE MORTGAGE CORPORATION, ProCollect, Inc., BMW Financial Services NA, LLC, Fidelity Properties Inc., HW Holding, Inc, Kinum, Inc., Indianapolis, IN Branch, Paypal Holdings, Inc, PENNYMAC LOAN SERVICES, LLC., Prober & Raphael, A Law Corporation, Bull City Financial Solutions, Inc, Block, Inc., North State Acceptance, LLC, First Technology Federal Credit Union, Patient Accounting Service Center, Netspend Corporation, Healthcare Finance Direct LLC., SELECT PORTFOLIO SERVICING, INC., ARVEST BANK GROUP, INC., Collection Receivables, Inc., UNITED SERVICES AUTOMOBILE ASSOCIATION, CAVALRY INVESTMENTS, LLC, Weltman, Weinberg & Reis Co., L.P.A., BMO HARRIS BANK NATIONAL ASSOCIATION, Ocwen Financial Corporation, V and H Portfolio, ENOVA INTERNATIONAL, INC., Maximus Education, LLC dba Aidvantage, Bass & Associates, P.C., Attorneys at Law, Sigue Corp., Kriya Capital, LLC, SLM CORPORATION, TFS FINANCIAL CORPORATION, FREEDOM FINANCIAL NETWORK, Collection Bureau of the Hudson Valley, Inc., ONLINE Information Services, Inc., North Shore Equities, Inc., ACIMA CREDIT, LLC, Fidelity National Information Services, Inc. (FNIS), Wildhorse Financial Services, LLC, DAIMLER TRUCK FINANCIAL SERVICES USA LLC, CARD Corporation, HCFS Healthcare Financial Services of TeamHealth, Debt Recovery Solutions, LLC, Statebridge Company, Rowland Avenue Management, Inc. A/KA Columbia Debt Recovery, LLC d/b/a Genesis, Westlake Services, LLC, FORD MOTOR CREDIT CO., Albert Corporation, Rocket Mortgage, LLC, Freedom Mortgage Company, National Credit Adjusters, LLC, LFG Data Services Holdings, LP, ASSOCIATED MORTGAGE BANKERS IN, Elite Recovery Group LLC, Mercedes Benz Financial Services, MERCANTILE ADJUSTMENT BUREAU, LLC, Valley Collection Service, LLC, NEW YORK COMMUNITY BANCORP INC, P&B Capital Group, LLC, First Federal Credit Control, Inc., SG and Associates, CARS Acquisition, LLC, Great American Finance Co, Bridgecrest Acceptance Corporation, Incomm Holdings Inc., American Financial Network Inc., The Receivable Management Services LLC, DSR HOLDINGS GROUP, LLC, Phoenix Financial Services LLC, MicroBilt / PRBC (formerly CL Verify), Farrell Holdings, LLC, ROBINHOOD MARKETS INC., Credit Systems International, Inc., Velocity Portfolio Group, Designed Receivable Solutions, Inc., LJ Ross Associates, Foursight Holding LLC, Avid Acceptance, LLC, American Recovery Service Incorporated, Stellantis Financial Services US Corp., PCR Group, BWW Law Group, LLC, FISERV INC., Earnest Inc., Medical-Commercial Audit Inc, Opportunity Financial, LLC, Collection Management Holdings, LLC, PENTAGON FEDERAL CREDIT UNION, General Motors Financial Company, Inc., Early Warning Services, LLC, Duvera Billing Services, LLC, Credit Corp Solutions Inc., Dovenmuehle Mortgage, Inc., Amsher Collection Services, Inc., Helvey & Associates, Inc., Warsaw, IN Branch, Possible Financial Inc, Eastern Account Systems of Connecticut, Inc., Receivables Management Partners, LLC, The CBE Group, Inc., 21ST MORTGAGE CORP., TomoCredit Inc., Global Trust Management LLC, Aldous & Associates, PLLC, Longbridge Financial, LLC, Affiliated Collection Services, LLC, Unifin Inc., Alliance One, Inc., BARCLAYS BANK DELAWARE, Easy Finance, LLC, Credit Karma, LLC, Bepensa Capital, Inc., Credit Card Receivables Fund Incorporated, Law Office of Michael J. Scott, PC, Conn's, Inc., Revenue Enterprises, LLC, Reliant Capital Solutions, LLC, Global Processing Services, LLC, Pressler & Pressler, LLP, Activehours, GCFS, INC., COMMERCE BANK, Fidelity National Financial, Inc, R.A.Rogers, Inc., AUSSRQ Holdings, LLC, Continental Finance Company, LLC, Heritage Financial Group, Inc., CHERRY TECHNOLOGIES INC., Fairway Capital Recovery, LLC, CMG MORTGAGE, INC, FIRST ADVANTAGE CORPORATION, Viva Finance Inc., Southwest Credit Systems, L.P., Credit International Corporation, Atlanticus Services Corporation, LendingPoint Holdings LLC, MOHELA, CNG HOLDINGS INC, Lloyd & McDaniel, PLC, Penn Credit Corporation, Factor Trust, FMA Alliance, Ltd., Vengroff Williams, Inc, OLIPHANT FINANCIAL, LLC, MIB Group, Inc., Jim Bottin Enterprises, Inc, EAST WEST BANK, Meridian Financial Services, Inc., Consumer Adjustment Company Incorporated, Upgrade, Inc., Chrysalis Holdings LLC, Firstsource Business Process Services, LLC, Lennar Financial Services, LLC, Alorica Inc., RentDebt Automated Collections, LLC, Advanced Resolution Services Inc., SUNRISE CREDIT SERVICES, INC, AmeriCollect, AppFolio, Inc., Colony Brands, Inc., Armada Corp., Alabama Housing Finance Authority, GOLDEN 1 CREDIT UNION, THE, 1st Franklin Financial Corporation, PRIMARY RESIDENTIAL MORTGAGE, National Commercial Services, Inc, LAKEVIEW LOAN SERVICING, LLC, Crown Asset Management, LLC, Duluth, GA Branch, Avant Holding Company, Inc., Maddocks Collection Services, LLC, McCarthy, Burgess & Wolff, Inc., Revolut Technologies Inc., Southwest Law Offices PC, CITIZENS FINANCIAL GROUP, INC., Williams & Fudge, Inc, ResidentCollect, Inc., DIGITAL FEDERAL CREDIT UNION, FIRST COMMONWEALTH FINANCIAL CORPORATION, Global Lending Services LLC, R & B Corporation of Virginia, R.T.R. Financial Services, Inc., SUN LOAN COMPANY INC., Cascade CISS Holdings, LLC, CARCO Group, Inc., CASHCALL, INC., EGL US, LLC, VW Credit, Crawford & von Keller, LLC, SERVICEMAC, LLC, Diverse Funding Associates LLC, Convergent Resources, Inc., Central Portfolio Control Inc., Fig Tech Inc., Massachusetts Educational Financing Authority, BTH Management, Auto Trakk, LLC, CarMax, Inc., CHARLES SCHWAB CORPORATION, THE, OPORTUN FINANCIAL CORPORATION, Marlette Funding, LLC, Lockhart, Morris & Montgomery Inc., AMERICA FIRST FEDERAL CREDIT UNION, August Real Estate Investments, LLC, AmeriHome Mortgage Company, LLC, The J. G. Wentworth Company, Garrison Investment Group, Rent Recovery Solutions, GREENSTATE CREDIT UNION, Selene Holdings LLC, Future Judgement Solutions, Advance America, Cash Advance Centers, Inc., MoneyLion Inc., Professional Finance Company, Inc., Lenmo Inc, CFW Holdings LLC, Simon's Agency, Inc., The Sayer Law Group, P.C., Movement Mortgage LLC, Americas Car-Mart, Inc., CCF Intermediate Holdings LLC, United Collection Bureau, Inc., Round Up Ventures, L.P., NORTHWEST BANCSHARES INC, AXOS FINANCIAL, INC., Thaxton Investment Corporation, Eastpoint Recovery Group, Inc\n",
      "\n"
     ]
    }
   ],
   "source": [
    "df['Date received'] = pd.to_datetime(df['Date received'])\n",
    "\n",
    "\n",
    "dates_of_interest = ['2024-04-17', '2024-04-02', '2024-03-21', '2024-04-11']\n",
    "\n",
    "\n",
    "for date in dates_of_interest:\n",
    "    issues = df[df['Date received'] == date]['Company'].dropna().unique()\n",
    "    print(f\"Issues raised on {date}: {', '.join(map(str, issues))}\\n\")"
   ]
  },
  {
   "cell_type": "code",
   "execution_count": 25,
   "id": "1c8580f2",
   "metadata": {},
   "outputs": [
    {
     "data": {
      "image/png": "[encoded data removed]",
      "text/plain": [
       "<Figure size 800x500 with 1 Axes>"
      ]
     },
     "metadata": {},
     "output_type": "display_data"
    }
   ],
   "source": [
    "top_company = df['Company'].value_counts().nlargest(5).sort_values(ascending=False).index\n",
    "\n",
    "plt.figure(figsize=(8, 5))\n",
    "sns.countplot(x='Company', data=df[df['Company'].isin(top_company)], order=top_company, palette='viridis')\n",
    "plt.title('The Company which gets more complaints')\n",
    "plt.xlabel('Company')\n",
    "plt.ylabel('Count')\n",
    "plt.xticks(rotation=45)  \n",
    "plt.tight_layout()\n",
    "plt.show()"
   ]
  },
  {
   "cell_type": "code",
   "execution_count": 26,
   "id": "5944dd31",
   "metadata": {},
   "outputs": [
    {
     "data": {
      "image/png": "[encoded data removed]",
      "text/plain": [
       "<Figure size 800x500 with 1 Axes>"
      ]
     },
     "metadata": {},
     "output_type": "display_data"
    }
   ],
   "source": [
    "top_company = df['State'].value_counts().nlargest(10).sort_values(ascending=False).index\n",
    "\n",
    "plt.figure(figsize=(8, 5))\n",
    "sns.countplot(x='State', data=df[df['State'].isin(top_company)], order=top_company, palette='viridis')\n",
    "plt.title('The State which gets more complaints')\n",
    "plt.xlabel('State')\n",
    "plt.ylabel('Count')\n",
    "# plt.xticks(rotation=45) \n",
    "plt.tight_layout()\n",
    "plt.show()"
   ]
  },
  {
   "cell_type": "code",
   "execution_count": 27,
   "id": "09cc0005",
   "metadata": {},
   "outputs": [
    {
     "data": {
      "image/png": "[encoded data removed]",
      "text/plain": [
       "<Figure size 800x500 with 1 Axes>"
      ]
     },
     "metadata": {},
     "output_type": "display_data"
    }
   ],
   "source": [
    "top_company = df['State'].value_counts().nsmallest(5).sort_values(ascending=True).index\n",
    "\n",
    "plt.figure(figsize=(8, 5))\n",
    "sns.countplot(x='State', data=df[df['State'].isin(top_company)], order=top_company, palette='viridis')\n",
    "plt.title('The State which gets less complaints')\n",
    "plt.xlabel('State')\n",
    "plt.ylabel('Count')\n",
    "plt.tight_layout()  \n",
    "plt.show()"
   ]
  },
  {
   "cell_type": "markdown",
   "id": "3050b962",
   "metadata": {},
   "source": [
    "#### Consumer consent provided?"
   ]
  },
  {
   "cell_type": "code",
   "execution_count": 28,
   "id": "e5da478d",
   "metadata": {},
   "outputs": [
    {
     "data": {
      "image/png": "[encoded data removed]",
      "text/plain": [
       "<Figure size 640x480 with 1 Axes>"
      ]
     },
     "metadata": {},
     "output_type": "display_data"
    }
   ],
   "source": [
    "df['Consumer consent provided?'].hist()\n",
    "plt.title('Consumer consent status')\n",
    "plt.show()"
   ]
  },
  {
   "cell_type": "code",
   "execution_count": 29,
   "id": "0ddade1e",
   "metadata": {},
   "outputs": [
    {
     "data": {
      "image/png": "[encoded data removed]",
      "text/plain": [
       "<Figure size 640x480 with 1 Axes>"
      ]
     },
     "metadata": {},
     "output_type": "display_data"
    }
   ],
   "source": [
    "df['Timely response?'].hist()\n",
    "plt.title('Timely response status')\n",
    "plt.show()"
   ]
  },
  {
   "cell_type": "code",
   "execution_count": 30,
   "id": "ae9a6c6f",
   "metadata": {},
   "outputs": [
    {
     "data": {
      "text/plain": [
       "Yes    5101188\n",
       "No       58533\n",
       "Name: Timely response?, dtype: int64"
      ]
     },
     "execution_count": 30,
     "metadata": {},
     "output_type": "execute_result"
    }
   ],
   "source": [
    "df['Timely response?'].value_counts()"
   ]
  },
  {
   "cell_type": "code",
   "execution_count": 31,
   "id": "2af0691e",
   "metadata": {},
   "outputs": [
    {
     "name": "stdout",
     "output_type": "stream",
     "text": [
      "Top 5 companies with the most 'No' responses:\n",
      "BANK OF AMERICA, NATIONAL ASSOCIATION    4072\n",
      "WELLS FARGO & COMPANY                    3809\n",
      "EQUIFAX, INC.                            1776\n",
      "EdFinancial Services                     1399\n",
      "Conduent Incorporated                     595\n",
      "Name: Company, dtype: int64\n"
     ]
    }
   ],
   "source": [
    "no_timely_response = df[df['Timely response?'] == 'No']\n",
    "\n",
    "top_5_companies_no_timely_response = no_timely_response['Company'].value_counts().nlargest(5)\n",
    "\n",
    "print(\"Top 5 companies with the most 'No' responses:\")\n",
    "print(top_5_companies_no_timely_response)"
   ]
  },
  {
   "cell_type": "markdown",
   "id": "8a5462c2",
   "metadata": {},
   "source": [
    "#### Data Cleaning"
   ]
  },
  {
   "cell_type": "code",
   "execution_count": 32,
   "id": "1127105c",
   "metadata": {},
   "outputs": [],
   "source": [
    "df.dropna(inplace=True)"
   ]
  },
  {
   "cell_type": "code",
   "execution_count": 33,
   "id": "4eab3efb",
   "metadata": {},
   "outputs": [
    {
     "data": {
      "text/html": [
       "<div>\n",
       "<style scoped>\n",
       "    .dataframe tbody tr th:only-of-type {\n",
       "        vertical-align: middle;\n",
       "    }\n",
       "\n",
       "    .dataframe tbody tr th {\n",
       "        vertical-align: top;\n",
       "    }\n",
       "\n",
       "    .dataframe thead th {\n",
       "        text-align: right;\n",
       "    }\n",
       "</style>\n",
       "<table border=\"1\" class=\"dataframe\">\n",
       "  <thead>\n",
       "    <tr style=\"text-align: right;\">\n",
       "      <th></th>\n",
       "      <th>Date received</th>\n",
       "      <th>Product</th>\n",
       "      <th>Sub-product</th>\n",
       "      <th>Issue</th>\n",
       "      <th>Sub-issue</th>\n",
       "      <th>Consumer complaint narrative</th>\n",
       "      <th>Company public response</th>\n",
       "      <th>Company</th>\n",
       "      <th>State</th>\n",
       "      <th>ZIP code</th>\n",
       "      <th>Tags</th>\n",
       "      <th>Consumer consent provided?</th>\n",
       "      <th>Submitted via</th>\n",
       "      <th>Date sent to company</th>\n",
       "      <th>Company response to consumer</th>\n",
       "      <th>Timely response?</th>\n",
       "      <th>Consumer disputed?</th>\n",
       "      <th>Complaint ID</th>\n",
       "    </tr>\n",
       "  </thead>\n",
       "  <tbody>\n",
       "    <tr>\n",
       "      <th>633255</th>\n",
       "      <td>2016-12-29</td>\n",
       "      <td>Debt collection</td>\n",
       "      <td>Non-federal student loan</td>\n",
       "      <td>Disclosure verification of debt</td>\n",
       "      <td>Right to dispute notice not received</td>\n",
       "      <td>I send my payment on time every month for 18 m...</td>\n",
       "      <td>Company believes it acted appropriately as aut...</td>\n",
       "      <td>Kramer &amp; Frank, P.C.</td>\n",
       "      <td>MO</td>\n",
       "      <td>64063</td>\n",
       "      <td>Servicemember</td>\n",
       "      <td>Consent provided</td>\n",
       "      <td>Web</td>\n",
       "      <td>2016-12-29</td>\n",
       "      <td>Closed with non-monetary relief</td>\n",
       "      <td>Yes</td>\n",
       "      <td>No</td>\n",
       "      <td>2268493</td>\n",
       "    </tr>\n",
       "    <tr>\n",
       "      <th>810490</th>\n",
       "      <td>2016-09-09</td>\n",
       "      <td>Debt collection</td>\n",
       "      <td>I do not know</td>\n",
       "      <td>Cont'd attempts collect debt not owed</td>\n",
       "      <td>Debt is not mine</td>\n",
       "      <td>I have never had a bank account with Wells Far...</td>\n",
       "      <td>Company has responded to the consumer and the ...</td>\n",
       "      <td>WELLS FARGO &amp; COMPANY</td>\n",
       "      <td>GA</td>\n",
       "      <td>XXXXX</td>\n",
       "      <td>Servicemember</td>\n",
       "      <td>Consent provided</td>\n",
       "      <td>Web</td>\n",
       "      <td>2016-09-09</td>\n",
       "      <td>Closed with explanation</td>\n",
       "      <td>Yes</td>\n",
       "      <td>Yes</td>\n",
       "      <td>2100981</td>\n",
       "    </tr>\n",
       "    <tr>\n",
       "      <th>1206635</th>\n",
       "      <td>2017-03-30</td>\n",
       "      <td>Debt collection</td>\n",
       "      <td>Other (i.e. phone, health club, etc.)</td>\n",
       "      <td>Cont'd attempts collect debt not owed</td>\n",
       "      <td>Debt is not mine</td>\n",
       "      <td>Debt was paid at the end of XX/XX/XXXX because...</td>\n",
       "      <td>Company believes it acted appropriately as aut...</td>\n",
       "      <td>Amsher Collection Services, Inc.</td>\n",
       "      <td>NY</td>\n",
       "      <td>11235</td>\n",
       "      <td>Servicemember</td>\n",
       "      <td>Consent provided</td>\n",
       "      <td>Web</td>\n",
       "      <td>2017-03-30</td>\n",
       "      <td>Closed with explanation</td>\n",
       "      <td>Yes</td>\n",
       "      <td>No</td>\n",
       "      <td>2411834</td>\n",
       "    </tr>\n",
       "    <tr>\n",
       "      <th>1206774</th>\n",
       "      <td>2017-04-08</td>\n",
       "      <td>Debt collection</td>\n",
       "      <td>Other (i.e. phone, health club, etc.)</td>\n",
       "      <td>Cont'd attempts collect debt not owed</td>\n",
       "      <td>Debt was paid</td>\n",
       "      <td>Harassing calls to collect a debt, stating my ...</td>\n",
       "      <td>Company has responded to the consumer and the ...</td>\n",
       "      <td>MARINER FINANCE, LLC</td>\n",
       "      <td>NC</td>\n",
       "      <td>28304</td>\n",
       "      <td>Servicemember</td>\n",
       "      <td>Consent provided</td>\n",
       "      <td>Web</td>\n",
       "      <td>2017-04-10</td>\n",
       "      <td>Closed with explanation</td>\n",
       "      <td>Yes</td>\n",
       "      <td>No</td>\n",
       "      <td>2425416</td>\n",
       "    </tr>\n",
       "    <tr>\n",
       "      <th>1206996</th>\n",
       "      <td>2017-04-08</td>\n",
       "      <td>Debt collection</td>\n",
       "      <td>Medical</td>\n",
       "      <td>Improper contact or sharing of info</td>\n",
       "      <td>Talked to a third party about my debt</td>\n",
       "      <td>This company contacted my mothers employer, my...</td>\n",
       "      <td>Company believes it acted appropriately as aut...</td>\n",
       "      <td>TENET HEALTHCARE CORPORATION</td>\n",
       "      <td>AL</td>\n",
       "      <td>36532</td>\n",
       "      <td>Servicemember</td>\n",
       "      <td>Consent provided</td>\n",
       "      <td>Web</td>\n",
       "      <td>2017-04-08</td>\n",
       "      <td>Closed with explanation</td>\n",
       "      <td>Yes</td>\n",
       "      <td>No</td>\n",
       "      <td>2425954</td>\n",
       "    </tr>\n",
       "    <tr>\n",
       "      <th>...</th>\n",
       "      <td>...</td>\n",
       "      <td>...</td>\n",
       "      <td>...</td>\n",
       "      <td>...</td>\n",
       "      <td>...</td>\n",
       "      <td>...</td>\n",
       "      <td>...</td>\n",
       "      <td>...</td>\n",
       "      <td>...</td>\n",
       "      <td>...</td>\n",
       "      <td>...</td>\n",
       "      <td>...</td>\n",
       "      <td>...</td>\n",
       "      <td>...</td>\n",
       "      <td>...</td>\n",
       "      <td>...</td>\n",
       "      <td>...</td>\n",
       "      <td>...</td>\n",
       "    </tr>\n",
       "    <tr>\n",
       "      <th>5139815</th>\n",
       "      <td>2015-04-20</td>\n",
       "      <td>Debt collection</td>\n",
       "      <td>Other (i.e. phone, health club, etc.)</td>\n",
       "      <td>Disclosure verification of debt</td>\n",
       "      <td>Right to dispute notice not received</td>\n",
       "      <td>Spoke to company to have letter sent on terms ...</td>\n",
       "      <td>Company believes it acted appropriately as aut...</td>\n",
       "      <td>CAINE &amp; WEINER COMPANY, INC.</td>\n",
       "      <td>FL</td>\n",
       "      <td>32608</td>\n",
       "      <td>Servicemember</td>\n",
       "      <td>Consent provided</td>\n",
       "      <td>Web</td>\n",
       "      <td>2015-04-24</td>\n",
       "      <td>Closed with explanation</td>\n",
       "      <td>Yes</td>\n",
       "      <td>No</td>\n",
       "      <td>1337035</td>\n",
       "    </tr>\n",
       "    <tr>\n",
       "      <th>5139842</th>\n",
       "      <td>2015-11-19</td>\n",
       "      <td>Debt collection</td>\n",
       "      <td>Other (i.e. phone, health club, etc.)</td>\n",
       "      <td>Communication tactics</td>\n",
       "      <td>Threatened to take legal action</td>\n",
       "      <td>I have a personal loan with XXXX XXXX, which I...</td>\n",
       "      <td>Company chooses not to provide a public response</td>\n",
       "      <td>MARINER FINANCE, LLC</td>\n",
       "      <td>OH</td>\n",
       "      <td>45342</td>\n",
       "      <td>Servicemember</td>\n",
       "      <td>Consent provided</td>\n",
       "      <td>Web</td>\n",
       "      <td>2015-11-23</td>\n",
       "      <td>Closed with explanation</td>\n",
       "      <td>Yes</td>\n",
       "      <td>Yes</td>\n",
       "      <td>1662506</td>\n",
       "    </tr>\n",
       "    <tr>\n",
       "      <th>5139959</th>\n",
       "      <td>2016-11-11</td>\n",
       "      <td>Debt collection</td>\n",
       "      <td>I do not know</td>\n",
       "      <td>Improper contact or sharing of info</td>\n",
       "      <td>Talked to a third party about my debt</td>\n",
       "      <td>A lady claiming to be named XXXX from Capital ...</td>\n",
       "      <td>Company believes it acted appropriately as aut...</td>\n",
       "      <td>Capital Management Services, LP</td>\n",
       "      <td>FL</td>\n",
       "      <td>33541</td>\n",
       "      <td>Older American</td>\n",
       "      <td>Consent provided</td>\n",
       "      <td>Web</td>\n",
       "      <td>2016-11-11</td>\n",
       "      <td>Closed with explanation</td>\n",
       "      <td>Yes</td>\n",
       "      <td>No</td>\n",
       "      <td>2205441</td>\n",
       "    </tr>\n",
       "    <tr>\n",
       "      <th>5140025</th>\n",
       "      <td>2016-09-19</td>\n",
       "      <td>Debt collection</td>\n",
       "      <td>I do not know</td>\n",
       "      <td>Taking/threatening an illegal action</td>\n",
       "      <td>Threatened to sue on too old debt</td>\n",
       "      <td>A representative with Cambridge Asset Manageme...</td>\n",
       "      <td>Company believes complaint is the result of an...</td>\n",
       "      <td>Meridian ARG Inc.</td>\n",
       "      <td>GA</td>\n",
       "      <td>30052</td>\n",
       "      <td>Servicemember</td>\n",
       "      <td>Consent provided</td>\n",
       "      <td>Web</td>\n",
       "      <td>2016-11-01</td>\n",
       "      <td>Closed with explanation</td>\n",
       "      <td>Yes</td>\n",
       "      <td>No</td>\n",
       "      <td>2119069</td>\n",
       "    </tr>\n",
       "    <tr>\n",
       "      <th>5140066</th>\n",
       "      <td>2016-10-31</td>\n",
       "      <td>Debt collection</td>\n",
       "      <td>Medical</td>\n",
       "      <td>Cont'd attempts collect debt not owed</td>\n",
       "      <td>Debt is not mine</td>\n",
       "      <td>Payliance deleted this account over 2 years ag...</td>\n",
       "      <td>Company believes it acted appropriately as aut...</td>\n",
       "      <td>Collections Acquisition Company, Inc.</td>\n",
       "      <td>SC</td>\n",
       "      <td>29483</td>\n",
       "      <td>Servicemember</td>\n",
       "      <td>Consent provided</td>\n",
       "      <td>Web</td>\n",
       "      <td>2016-10-31</td>\n",
       "      <td>Closed with explanation</td>\n",
       "      <td>Yes</td>\n",
       "      <td>Yes</td>\n",
       "      <td>2187929</td>\n",
       "    </tr>\n",
       "  </tbody>\n",
       "</table>\n",
       "<p>3120 rows × 18 columns</p>\n",
       "</div>"
      ],
      "text/plain": [
       "        Date received          Product                            Sub-product  \\\n",
       "633255     2016-12-29  Debt collection               Non-federal student loan   \n",
       "810490     2016-09-09  Debt collection                          I do not know   \n",
       "1206635    2017-03-30  Debt collection  Other (i.e. phone, health club, etc.)   \n",
       "1206774    2017-04-08  Debt collection  Other (i.e. phone, health club, etc.)   \n",
       "1206996    2017-04-08  Debt collection                                Medical   \n",
       "...               ...              ...                                    ...   \n",
       "5139815    2015-04-20  Debt collection  Other (i.e. phone, health club, etc.)   \n",
       "5139842    2015-11-19  Debt collection  Other (i.e. phone, health club, etc.)   \n",
       "5139959    2016-11-11  Debt collection                          I do not know   \n",
       "5140025    2016-09-19  Debt collection                          I do not know   \n",
       "5140066    2016-10-31  Debt collection                                Medical   \n",
       "\n",
       "                                         Issue  \\\n",
       "633255         Disclosure verification of debt   \n",
       "810490   Cont'd attempts collect debt not owed   \n",
       "1206635  Cont'd attempts collect debt not owed   \n",
       "1206774  Cont'd attempts collect debt not owed   \n",
       "1206996    Improper contact or sharing of info   \n",
       "...                                        ...   \n",
       "5139815        Disclosure verification of debt   \n",
       "5139842                  Communication tactics   \n",
       "5139959    Improper contact or sharing of info   \n",
       "5140025   Taking/threatening an illegal action   \n",
       "5140066  Cont'd attempts collect debt not owed   \n",
       "\n",
       "                                     Sub-issue  \\\n",
       "633255    Right to dispute notice not received   \n",
       "810490                        Debt is not mine   \n",
       "1206635                       Debt is not mine   \n",
       "1206774                          Debt was paid   \n",
       "1206996  Talked to a third party about my debt   \n",
       "...                                        ...   \n",
       "5139815   Right to dispute notice not received   \n",
       "5139842        Threatened to take legal action   \n",
       "5139959  Talked to a third party about my debt   \n",
       "5140025      Threatened to sue on too old debt   \n",
       "5140066                       Debt is not mine   \n",
       "\n",
       "                              Consumer complaint narrative  \\\n",
       "633255   I send my payment on time every month for 18 m...   \n",
       "810490   I have never had a bank account with Wells Far...   \n",
       "1206635  Debt was paid at the end of XX/XX/XXXX because...   \n",
       "1206774  Harassing calls to collect a debt, stating my ...   \n",
       "1206996  This company contacted my mothers employer, my...   \n",
       "...                                                    ...   \n",
       "5139815  Spoke to company to have letter sent on terms ...   \n",
       "5139842  I have a personal loan with XXXX XXXX, which I...   \n",
       "5139959  A lady claiming to be named XXXX from Capital ...   \n",
       "5140025  A representative with Cambridge Asset Manageme...   \n",
       "5140066  Payliance deleted this account over 2 years ag...   \n",
       "\n",
       "                                   Company public response  \\\n",
       "633255   Company believes it acted appropriately as aut...   \n",
       "810490   Company has responded to the consumer and the ...   \n",
       "1206635  Company believes it acted appropriately as aut...   \n",
       "1206774  Company has responded to the consumer and the ...   \n",
       "1206996  Company believes it acted appropriately as aut...   \n",
       "...                                                    ...   \n",
       "5139815  Company believes it acted appropriately as aut...   \n",
       "5139842   Company chooses not to provide a public response   \n",
       "5139959  Company believes it acted appropriately as aut...   \n",
       "5140025  Company believes complaint is the result of an...   \n",
       "5140066  Company believes it acted appropriately as aut...   \n",
       "\n",
       "                                       Company State ZIP code            Tags  \\\n",
       "633255                    Kramer & Frank, P.C.    MO    64063   Servicemember   \n",
       "810490                   WELLS FARGO & COMPANY    GA    XXXXX   Servicemember   \n",
       "1206635       Amsher Collection Services, Inc.    NY    11235   Servicemember   \n",
       "1206774                   MARINER FINANCE, LLC    NC    28304   Servicemember   \n",
       "1206996           TENET HEALTHCARE CORPORATION    AL    36532   Servicemember   \n",
       "...                                        ...   ...      ...             ...   \n",
       "5139815           CAINE & WEINER COMPANY, INC.    FL    32608   Servicemember   \n",
       "5139842                   MARINER FINANCE, LLC    OH    45342   Servicemember   \n",
       "5139959        Capital Management Services, LP    FL    33541  Older American   \n",
       "5140025                      Meridian ARG Inc.    GA    30052   Servicemember   \n",
       "5140066  Collections Acquisition Company, Inc.    SC    29483   Servicemember   \n",
       "\n",
       "        Consumer consent provided? Submitted via Date sent to company  \\\n",
       "633255            Consent provided           Web           2016-12-29   \n",
       "810490            Consent provided           Web           2016-09-09   \n",
       "1206635           Consent provided           Web           2017-03-30   \n",
       "1206774           Consent provided           Web           2017-04-10   \n",
       "1206996           Consent provided           Web           2017-04-08   \n",
       "...                            ...           ...                  ...   \n",
       "5139815           Consent provided           Web           2015-04-24   \n",
       "5139842           Consent provided           Web           2015-11-23   \n",
       "5139959           Consent provided           Web           2016-11-11   \n",
       "5140025           Consent provided           Web           2016-11-01   \n",
       "5140066           Consent provided           Web           2016-10-31   \n",
       "\n",
       "            Company response to consumer Timely response? Consumer disputed?  \\\n",
       "633255   Closed with non-monetary relief              Yes                 No   \n",
       "810490           Closed with explanation              Yes                Yes   \n",
       "1206635          Closed with explanation              Yes                 No   \n",
       "1206774          Closed with explanation              Yes                 No   \n",
       "1206996          Closed with explanation              Yes                 No   \n",
       "...                                  ...              ...                ...   \n",
       "5139815          Closed with explanation              Yes                 No   \n",
       "5139842          Closed with explanation              Yes                Yes   \n",
       "5139959          Closed with explanation              Yes                 No   \n",
       "5140025          Closed with explanation              Yes                 No   \n",
       "5140066          Closed with explanation              Yes                Yes   \n",
       "\n",
       "         Complaint ID  \n",
       "633255        2268493  \n",
       "810490        2100981  \n",
       "1206635       2411834  \n",
       "1206774       2425416  \n",
       "1206996       2425954  \n",
       "...               ...  \n",
       "5139815       1337035  \n",
       "5139842       1662506  \n",
       "5139959       2205441  \n",
       "5140025       2119069  \n",
       "5140066       2187929  \n",
       "\n",
       "[3120 rows x 18 columns]"
      ]
     },
     "execution_count": 33,
     "metadata": {},
     "output_type": "execute_result"
    }
   ],
   "source": [
    "df"
   ]
  },
  {
   "cell_type": "markdown",
   "id": "2ac0cdb1",
   "metadata": {},
   "source": [
    "# ---------------------------------------------------------------------------------------------------------------"
   ]
  },
  {
   "cell_type": "markdown",
   "id": "f77d5c18",
   "metadata": {},
   "source": [
    "## 2"
   ]
  },
  {
   "cell_type": "raw",
   "id": "b24cb947",
   "metadata": {},
   "source": [
    "2. Given an unsorted array of integers, find the length of the longest continuous\n",
    "increasing subsequence (subarray). \n",
    "Example 1:\n",
    "Input: [1,3,5,4,7]\n",
    "Output: 3 \n",
    "Example 2:\n",
    "Input: [2,2,2,2,2]\n",
    "Output: 1"
   ]
  },
  {
   "cell_type": "code",
   "execution_count": 34,
   "id": "28ddf04e",
   "metadata": {},
   "outputs": [
    {
     "name": "stdout",
     "output_type": "stream",
     "text": [
      "Example 1 Output: 3\n",
      "Example 2 Output: 1\n"
     ]
    }
   ],
   "source": [
    "def findLengthOfLCIS(nums):\n",
    "    if not nums:\n",
    "        return 0\n",
    "    \n",
    "    max_length = 1\n",
    "    current_length = 1\n",
    "    \n",
    "    for i in range(1, len(nums)):\n",
    "        if nums[i] > nums[i - 1]:\n",
    "            current_length += 1\n",
    "            max_length = max(max_length, current_length)\n",
    "        else:\n",
    "            current_length = 1\n",
    "    \n",
    "    return max_length\n",
    "\n",
    "\n",
    "input1 = [1, 3, 5, 4, 7]\n",
    "print(\"Example 1 Output:\", findLengthOfLCIS(input1))  \n",
    "\n",
    "input2 = [2, 2, 2, 2, 2]\n",
    "print(\"Example 2 Output:\", findLengthOfLCIS(input2))  \n"
   ]
  },
  {
   "cell_type": "markdown",
   "id": "cfc66a10",
   "metadata": {},
   "source": [
    "# ---------------------------------------------------------------------------------------------------------------"
   ]
  },
  {
   "cell_type": "markdown",
   "id": "499feb01",
   "metadata": {},
   "source": [
    "# 3"
   ]
  },
  {
   "cell_type": "raw",
   "id": "cd41bfb8",
   "metadata": {},
   "source": [
    "3. Given a list of non negative integers, arrange them such that they form the largest\n",
    "number.\n",
    " \n",
    " Example 1:\n",
    " \n",
    " Input: [10,2]\n",
    " Output: &quot;210&quot;\n",
    " \n",
    " Example 2:\n",
    " \n",
    " Input: [3,30,34,5,9]\n",
    " Output: &quot;9534330&quot;"
   ]
  },
  {
   "cell_type": "code",
   "execution_count": 35,
   "id": "9a88aec6",
   "metadata": {},
   "outputs": [
    {
     "name": "stdout",
     "output_type": "stream",
     "text": [
      "Example 1 Output: 210\n",
      "Example 2 Output: 9534330\n"
     ]
    }
   ],
   "source": [
    "from functools import cmp_to_key\n",
    "\n",
    "def largestNumber(nums):\n",
    "    \n",
    "    def compare(x, y):\n",
    "        return int(y + x) - int(x + y)\n",
    "\n",
    "    \n",
    "    nums_str = [str(num) for num in nums]\n",
    "    \n",
    "    \n",
    "    nums_str.sort(key=cmp_to_key(compare))\n",
    "    \n",
    "    \n",
    "    if nums_str[0] == '0':\n",
    "        return '0'\n",
    "    \n",
    "    \n",
    "    return ''.join(nums_str)\n",
    "\n",
    "\n",
    "input1 = [10, 2]\n",
    "print(\"Example 1 Output:\", largestNumber(input1))  \n",
    "\n",
    "input2 = [3, 30, 34, 5, 9]\n",
    "print(\"Example 2 Output:\", largestNumber(input2))  \n"
   ]
  },
  {
   "cell_type": "markdown",
   "id": "ba78b15d",
   "metadata": {},
   "source": [
    "# ---------------------------------------------------------------------------------------------------------------"
   ]
  },
  {
   "cell_type": "markdown",
   "id": "7311bc97",
   "metadata": {},
   "source": [
    "## 4"
   ]
  },
  {
   "cell_type": "raw",
   "id": "59383fa2",
   "metadata": {},
   "source": [
    "4. Store all the &quot;servlet-name&quot;, and &quot;servlet-class&quot; to a csv file from the attached\n",
    "sample_json.json file using Python."
   ]
  },
  {
   "cell_type": "code",
   "execution_count": 36,
   "id": "abb63600",
   "metadata": {},
   "outputs": [
    {
     "name": "stdout",
     "output_type": "stream",
     "text": [
      "Data has been written to servlet_data.csv\n"
     ]
    }
   ],
   "source": [
    "import json\n",
    "import csv\n",
    "\n",
    "with open('DT.json') as json_file:\n",
    "    data = json.load(json_file)\n",
    "\n",
    "servlet_data = []\n",
    "for servlet in data['web-app']['servlet']:\n",
    "    servlet_name = servlet['servlet-name']\n",
    "    servlet_class = servlet['servlet-class']\n",
    "    servlet_data.append({'servlet-name': servlet_name, 'servlet-class': servlet_class})\n",
    "\n",
    "csv_file = 'servlet_data.csv'\n",
    "csv_columns = ['servlet-name', 'servlet-class']\n",
    "with open(csv_file, 'w', newline='') as csvfile:\n",
    "    writer = csv.DictWriter(csvfile, fieldnames=csv_columns)\n",
    "    writer.writeheader()\n",
    "    for data in servlet_data:\n",
    "        writer.writerow(data)\n",
    "\n",
    "print(\"Data has been written to\", csv_file)\n"
   ]
  },
  {
   "cell_type": "code",
   "execution_count": 37,
   "id": "e5f0cb9a",
   "metadata": {},
   "outputs": [],
   "source": [
    "data=pd.read_csv('servlet_data.csv')"
   ]
  },
  {
   "cell_type": "code",
   "execution_count": 38,
   "id": "11077b23",
   "metadata": {},
   "outputs": [
    {
     "data": {
      "text/html": [
       "<div>\n",
       "<style scoped>\n",
       "    .dataframe tbody tr th:only-of-type {\n",
       "        vertical-align: middle;\n",
       "    }\n",
       "\n",
       "    .dataframe tbody tr th {\n",
       "        vertical-align: top;\n",
       "    }\n",
       "\n",
       "    .dataframe thead th {\n",
       "        text-align: right;\n",
       "    }\n",
       "</style>\n",
       "<table border=\"1\" class=\"dataframe\">\n",
       "  <thead>\n",
       "    <tr style=\"text-align: right;\">\n",
       "      <th></th>\n",
       "      <th>servlet-name</th>\n",
       "      <th>servlet-class</th>\n",
       "    </tr>\n",
       "  </thead>\n",
       "  <tbody>\n",
       "    <tr>\n",
       "      <th>0</th>\n",
       "      <td>cofaxCDS</td>\n",
       "      <td>org.cofax.cds.CDSServlet</td>\n",
       "    </tr>\n",
       "    <tr>\n",
       "      <th>1</th>\n",
       "      <td>cofaxEmail</td>\n",
       "      <td>org.cofax.cds.EmailServlet</td>\n",
       "    </tr>\n",
       "    <tr>\n",
       "      <th>2</th>\n",
       "      <td>cofaxAdmin</td>\n",
       "      <td>org.cofax.cds.AdminServlet</td>\n",
       "    </tr>\n",
       "    <tr>\n",
       "      <th>3</th>\n",
       "      <td>fileServlet</td>\n",
       "      <td>org.cofax.cds.FileServlet</td>\n",
       "    </tr>\n",
       "    <tr>\n",
       "      <th>4</th>\n",
       "      <td>cofaxTools</td>\n",
       "      <td>org.cofax.cms.CofaxToolsServlet</td>\n",
       "    </tr>\n",
       "  </tbody>\n",
       "</table>\n",
       "</div>"
      ],
      "text/plain": [
       "  servlet-name                    servlet-class\n",
       "0     cofaxCDS         org.cofax.cds.CDSServlet\n",
       "1   cofaxEmail       org.cofax.cds.EmailServlet\n",
       "2   cofaxAdmin       org.cofax.cds.AdminServlet\n",
       "3  fileServlet        org.cofax.cds.FileServlet\n",
       "4   cofaxTools  org.cofax.cms.CofaxToolsServlet"
      ]
     },
     "execution_count": 38,
     "metadata": {},
     "output_type": "execute_result"
    }
   ],
   "source": [
    "data"
   ]
  },
  {
   "cell_type": "code",
   "execution_count": null,
   "id": "3dfea06d",
   "metadata": {},
   "outputs": [],
   "source": []
  }
 ],
 "metadata": {
  "kernelspec": {
   "display_name": "Python 3 (ipykernel)",
   "language": "python",
   "name": "python3"
  },
  "language_info": {
   "codemirror_mode": {
    "name": "ipython",
    "version": 3
   },
   "file_extension": ".py",
   "mimetype": "text/x-python",
   "name": "python",
   "nbconvert_exporter": "python",
   "pygments_lexer": "ipython3",
   "version": "3.11.4"
  }
 },
 "nbformat": 4,
 "nbformat_minor": 5
}
